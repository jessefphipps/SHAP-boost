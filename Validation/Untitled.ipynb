{
 "cells": [
  {
   "cell_type": "code",
   "execution_count": 26,
   "metadata": {},
   "outputs": [],
   "source": [
    "import csv\n",
    "import numpy as np"
   ]
  },
  {
   "cell_type": "code",
   "execution_count": 45,
   "metadata": {},
   "outputs": [],
   "source": [
    "row = 'model_type, model_param, check me out\\n'\n",
    "\n",
    "row2 = '4, 5, 6\\n'\n",
    "\n",
    "row3 = '1, 2, 3'\n",
    "\n",
    "with open('parameter_experiment_210917.csv', \"w\") as csv_file:\n",
    "    csv_file.write(row)\n",
    "    csv_file.write(row2)\n",
    "    csv_file.write(row3)"
   ]
  },
  {
   "cell_type": "code",
   "execution_count": null,
   "metadata": {},
   "outputs": [],
   "source": [
    "def write_row_to_csv(row):\n",
    "    for key in row.keys():"
   ]
  }
 ],
 "metadata": {
  "kernelspec": {
   "display_name": "Python 3",
   "language": "python",
   "name": "python3"
  },
  "language_info": {
   "codemirror_mode": {
    "name": "ipython",
    "version": 3
   },
   "file_extension": ".py",
   "mimetype": "text/x-python",
   "name": "python",
   "nbconvert_exporter": "python",
   "pygments_lexer": "ipython3",
   "version": "3.6.9"
  }
 },
 "nbformat": 4,
 "nbformat_minor": 4
}
