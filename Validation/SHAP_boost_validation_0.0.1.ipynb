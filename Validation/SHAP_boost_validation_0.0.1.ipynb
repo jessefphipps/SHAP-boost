{
 "cells": [
  {
   "cell_type": "markdown",
   "metadata": {},
   "source": [
    "# IMPORT DEPENDENCIES"
   ]
  },
  {
   "cell_type": "code",
   "execution_count": 2,
   "metadata": {},
   "outputs": [],
   "source": [
    "import shap\n",
    "from sklearn.linear_model import LinearRegression\n",
    "from sklearn.ensemble import RandomForestClassifier\n",
    "from xgboost import XGBClassifier\n",
    "from sklearn.ensemble import StackingClassifier\n",
    "from sklearn.linear_model import LogisticRegression\n",
    "from sklearn.neighbors import KNeighborsClassifier\n",
    "from tqdm.notebook import tqdm\n",
    "\n",
    "from sklearn.metrics import accuracy_score, roc_auc_score, precision_recall_curve, auc, roc_curve\n",
    "from sklearn.svm import NuSVC, SVC\n",
    "from sklearn.neural_network import MLPClassifier\n",
    "from sklearn.preprocessing import OneHotEncoder\n",
    "from sklearn.inspection import permutation_importance\n",
    "import sklearn.datasets as datasets\n",
    "from sklearn.model_selection import train_test_split\n",
    "from matplotlib import pyplot as plt\n",
    "import pandas as pd\n",
    "import numpy as np\n",
    "import csv\n",
    "from datetime import datetime\n",
    "import statistics as stats\n",
    "import random\n",
    "\n",
    "from imp import reload\n",
    "\n",
    "from parameter_tuning import tune_rf, tune_xgb\n",
    "\n",
    "from stacked_model import prepare_csv_data, train_stacked_model_full, test_stacked_model_full, prepare_csv_data_k_folds"
   ]
  },
  {
   "cell_type": "markdown",
   "metadata": {},
   "source": [
    "# ANALYZE PARAMETER EXPERIMENT"
   ]
  },
  {
   "cell_type": "code",
   "execution_count": 17,
   "metadata": {},
   "outputs": [
    {
     "name": "stdout",
     "output_type": "stream",
     "text": [
      "===========AVERAGES===========\n",
      "ROC w/o SHAP:         0.611083\n",
      "ROC w/ SHAP:          0.708651\n",
      "\n",
      "\n",
      "=========IMPROVEMENT==========\n",
      "Max:                  0.164432\n",
      "Average:              0.100441\n",
      "\n",
      "\n",
      "====IMPROVEMENT (Top 90p)=====\n",
      "n_estimators:       110.090909\n",
      "max_range:            3.363636\n",
      "n_neighbors:          3.272727\n",
      "alpha:                0.004682\n",
      "\n",
      "\n",
      "==========IMPAIRMENT==========\n",
      "Max:                 -0.003612\n",
      "Average:             -0.002979\n",
      "\n",
      "\n",
      "=====IMPAIRMENT (Top 90p)=====\n",
      "n_estimators:         1.000000\n",
      "max_range:            4.000000\n",
      "n_neighbors:          2.500000\n",
      "alpha:                0.010000\n",
      "\n",
      "\n",
      "===============================FEATURE OCCURANCES===============================\n"
     ]
    },
    {
     "data": {
      "text/plain": [
       "{'level_1': {\" 'afib_flg'\": 108, \" 'age'\": 108, \" 'bun_first'\": 108},\n",
       " 'meta': {\" 'KNN_predict'\": 108,\n",
       "  \" 'MLP_predict'\": 105,\n",
       "  \" 'MLP_proba'\": 108,\n",
       "  \" 'xgb_proba'\": 108,\n",
       "  \" 'resp_flg'\": 108,\n",
       "  \" 'afib_flg'\": 108,\n",
       "  \" 'age'\": 108,\n",
       "  \" 'bun_first'\": 108},\n",
       " 'meta_shap': {\" 'bun_first_KNN_shap'\": 108,\n",
       "  \" 'age_KNN_shap'\": 108,\n",
       "  \" 'KNN_predict'\": 108,\n",
       "  \" 'sapsi_first_KNN_shap'\": 108,\n",
       "  \" 'MLP_predict'\": 105,\n",
       "  \" 'MLP_proba'\": 108,\n",
       "  \" 'xgb_proba'\": 108,\n",
       "  \" 'resp_flg'\": 108,\n",
       "  \" 'afib_flg'\": 108,\n",
       "  \" 'sapsi_first_MLP_shap'\": 108,\n",
       "  \" 'bun_first'\": 108}}"
      ]
     },
     "metadata": {},
     "output_type": "display_data"
    },
    {
     "data": {
      "text/plain": [
       "{'level_1': {\" 'afib_flg'\": 108, \" 'age'\": 108, \" 'bun_first'\": 108},\n",
       " 'meta': {\" 'KNN_predict'\": 108,\n",
       "  \" 'xgb_proba'\": 108,\n",
       "  \" 'MLP_proba'\": 108,\n",
       "  \" 'resp_flg'\": 108,\n",
       "  \" 'afib_flg'\": 108,\n",
       "  \" 'age'\": 108,\n",
       "  \" 'bun_first'\": 108,\n",
       "  \" 'MLP_predict'\": 3},\n",
       " 'meta_shap': {\" 'bun_first_KNN_shap'\": 108,\n",
       "  \" 'age_KNN_shap'\": 108,\n",
       "  \" 'KNN_predict'\": 108,\n",
       "  \" 'sapsi_first_KNN_shap'\": 108,\n",
       "  \" 'xgb_proba'\": 108,\n",
       "  \" 'MLP_proba'\": 108,\n",
       "  \" 'resp_flg'\": 108,\n",
       "  \" 'afib_flg'\": 108,\n",
       "  \" 'sapsi_first_MLP_shap'\": 108,\n",
       "  \" 'bun_first'\": 108,\n",
       "  \" 'MLP_predict'\": 3}}"
      ]
     },
     "metadata": {},
     "output_type": "display_data"
    }
   ],
   "source": [
    "results_filename = 'parameter_experiment_results/210922_173639.csv'\n",
    "results = pd.read_csv(results_filename)\n",
    "\n",
    "print('{:=^30}'.format('AVERAGES'))\n",
    "print('{:<16s}{:>14f}'.format('ROC w/o SHAP:', results['roc_no_shap'].mean()))\n",
    "print('{:<16s}{:>14f}'.format('ROC w/ SHAP:', results['roc_shap'].mean()))\n",
    "print('\\n')\n",
    "\n",
    "improve_indexes = (results['roc_shap'] - results['roc_no_shap']) > 0\n",
    "improves = np.array(results['roc_shap'][improve_indexes] - results['roc_no_shap'][improve_indexes])\n",
    "max_improve = max(improves)\n",
    "max_improve_index = (results['roc_shap'] - results['roc_no_shap']) == max_improve\n",
    "mean_improve = stats.mean(improves)\n",
    "\n",
    "top_percentile = 90\n",
    "top_improve = np.percentile(improves, top_percentile)\n",
    "top_improve_indexes = (results['roc_shap'] - results['roc_no_shap']) >= top_improve\n",
    "top_n_estimators = stats.mean(results['xgb_n_estimators'][top_improve_indexes])\n",
    "top_max_range = stats.mean(results['xgb_max_range'][top_improve_indexes])\n",
    "top_n_neighbors = stats.mean(results['KNN_n_neighbors'][top_improve_indexes])\n",
    "top_alpha = stats.mean(results['MLP_alpha'][top_improve_indexes])\n",
    "\n",
    "print('{:=^30}'.format('IMPROVEMENT'))\n",
    "print('{:<16s}{:>14f}'.format('Max:', max_improve))\n",
    "print('{:<16s}{:>14f}'.format('Average:', mean_improve))\n",
    "print('\\n')\n",
    "print('{:=^30}'.format('IMPROVEMENT (Top {}p)'.format(top_percentile)))\n",
    "print('{:<16s}{:>14f}'.format('n_estimators:', top_n_estimators))\n",
    "print('{:<16s}{:>14f}'.format('max_range:', top_max_range))\n",
    "print('{:<16s}{:>14f}'.format('n_neighbors:', top_n_neighbors))\n",
    "print('{:<16s}{:>14f}'.format('alpha:', top_alpha))\n",
    "print('\\n')\n",
    "\n",
    "impair_indexes = (results['roc_shap'] - results['roc_no_shap']) < 0\n",
    "impairs = np.array(results['roc_shap'][impair_indexes] - results['roc_no_shap'][impair_indexes])\n",
    "max_impair = min(impairs)\n",
    "max_impair_index = (results['roc_shap'] - results['roc_no_shap']) == max_impair\n",
    "mean_impair = stats.mean(impairs)\n",
    "\n",
    "top_impair = np.percentile(impairs, top_percentile)\n",
    "top_impair_indexes = (results['roc_shap'] - results['roc_no_shap']) <= top_impair\n",
    "top_n_estimators = stats.mean(results['xgb_n_estimators'][top_impair_indexes])\n",
    "top_max_range = stats.mean(results['xgb_max_range'][top_impair_indexes])\n",
    "top_n_neighbors = stats.mean(results['KNN_n_neighbors'][top_impair_indexes])\n",
    "top_alpha = stats.mean(results['MLP_alpha'][top_impair_indexes])\n",
    "\n",
    "print('{:=^30}'.format('IMPAIRMENT'))\n",
    "print('{:<16s}{:>14f}'.format('Max:', max_impair))\n",
    "print('{:<16s}{:>14f}'.format('Average:', mean_impair))\n",
    "print('\\n')\n",
    "print('{:=^30}'.format('IMPAIRMENT (Top {}p)'.format(top_percentile)))\n",
    "print('{:<16s}{:>14f}'.format('n_estimators:', top_n_estimators))\n",
    "print('{:<16s}{:>14f}'.format('max_range:', top_max_range))\n",
    "print('{:<16s}{:>14f}'.format('n_neighbors:', top_n_neighbors))\n",
    "print('{:<16s}{:>14f}'.format('alpha:', top_alpha))\n",
    "print('\\n')\n",
    "\n",
    "print('{:=^80}'.format('FEATURE OCCURANCES'))\n",
    "improve_feature_counts = {}\n",
    "improve_feature_counts['level_1'] = {}\n",
    "improve_feature_counts['meta'] = {}\n",
    "improve_feature_counts['meta_shap'] = {}\n",
    "for n in improve_indexes:\n",
    "    i = int(n)\n",
    "    features = results.iloc[i]['level_1_feats']\n",
    "    features = features.split(',')[1:-1]\n",
    "    for feat in features:\n",
    "        if feat in improve_feature_counts['level_1']:\n",
    "            improve_feature_counts['level_1'][feat] += 1\n",
    "        else:\n",
    "            improve_feature_counts['level_1'][feat] = 1\n",
    "    features = results.iloc[i]['meta_feats']\n",
    "    features = features.split(',')[1:-1]\n",
    "    for feat in features:\n",
    "        if feat in improve_feature_counts['meta']:\n",
    "            improve_feature_counts['meta'][feat] += 1\n",
    "        else:\n",
    "            improve_feature_counts['meta'][feat] = 1\n",
    "    features = results.iloc[i]['meta_feats_shap']\n",
    "    features = features.split(',')[1:-1]\n",
    "    for feat in features:\n",
    "        if feat in improve_feature_counts['meta_shap']:\n",
    "            improve_feature_counts['meta_shap'][feat] += 1\n",
    "        else:\n",
    "            improve_feature_counts['meta_shap'][feat] = 1\n",
    "            \n",
    "impair_feature_counts = {}\n",
    "impair_feature_counts['level_1'] = {}\n",
    "impair_feature_counts['meta'] = {}\n",
    "impair_feature_counts['meta_shap'] = {}\n",
    "for n in impair_indexes:\n",
    "    i = int(n)\n",
    "    features = results.iloc[i]['level_1_feats']\n",
    "    features = features.split(',')[1:-1]\n",
    "    for feat in features:\n",
    "        if feat in impair_feature_counts['level_1']:\n",
    "            impair_feature_counts['level_1'][feat] += 1\n",
    "        else:\n",
    "            impair_feature_counts['level_1'][feat] = 1\n",
    "    features = results.iloc[i]['meta_feats']\n",
    "    features = features.split(',')[1:-1]\n",
    "    for feat in features:\n",
    "        if feat in impair_feature_counts['meta']:\n",
    "            impair_feature_counts['meta'][feat] += 1\n",
    "        else:\n",
    "            impair_feature_counts['meta'][feat] = 1\n",
    "    features = results.iloc[i]['meta_feats_shap']\n",
    "    features = features.split(',')[1:-1]\n",
    "    for feat in features:\n",
    "        if feat in impair_feature_counts['meta_shap']:\n",
    "            impair_feature_counts['meta_shap'][feat] += 1\n",
    "        else:\n",
    "            impair_feature_counts['meta_shap'][feat] = 1\n",
    "\n",
    "display(improve_feature_counts)\n",
    "display(impair_feature_counts)"
   ]
  },
  {
   "cell_type": "markdown",
   "metadata": {},
   "source": [
    "# TRAIN AND EVALUATE SINGLE STACKED MODEL"
   ]
  },
  {
   "cell_type": "code",
   "execution_count": 2,
   "metadata": {},
   "outputs": [
    {
     "name": "stderr",
     "output_type": "stream",
     "text": [
      "Using 712 background data samples could cause slower run times. Consider using shap.sample(data, K) or shap.kmeans(data, K) to summarize the background as K samples.\n"
     ]
    },
    {
     "data": {
      "application/vnd.jupyter.widget-view+json": {
       "model_id": "342cbe728c3140349df9029a7498d28a",
       "version_major": 2,
       "version_minor": 0
      },
      "text/plain": [
       "HBox(children=(FloatProgress(value=0.0, max=712.0), HTML(value='')))"
      ]
     },
     "metadata": {},
     "output_type": "display_data"
    },
    {
     "name": "stdout",
     "output_type": "stream",
     "text": [
      "\n"
     ]
    },
    {
     "name": "stderr",
     "output_type": "stream",
     "text": [
      "ntree_limit is deprecated, use `iteration_range` or model slicing instead.\n",
      "Using 712 background data samples could cause slower run times. Consider using shap.sample(data, K) or shap.kmeans(data, K) to summarize the background as K samples.\n"
     ]
    },
    {
     "data": {
      "application/vnd.jupyter.widget-view+json": {
       "model_id": "68840364e81c44e7a8ea5cb03278cb30",
       "version_major": 2,
       "version_minor": 0
      },
      "text/plain": [
       "HBox(children=(FloatProgress(value=0.0, max=712.0), HTML(value='')))"
      ]
     },
     "metadata": {},
     "output_type": "display_data"
    },
    {
     "name": "stdout",
     "output_type": "stream",
     "text": [
      "\n"
     ]
    },
    {
     "name": "stderr",
     "output_type": "stream",
     "text": [
      "Using 352 background data samples could cause slower run times. Consider using shap.sample(data, K) or shap.kmeans(data, K) to summarize the background as K samples.\n"
     ]
    },
    {
     "data": {
      "application/vnd.jupyter.widget-view+json": {
       "model_id": "065c32c4ebfd45d5badc38af0525c0ee",
       "version_major": 2,
       "version_minor": 0
      },
      "text/plain": [
       "HBox(children=(FloatProgress(value=0.0, max=352.0), HTML(value='')))"
      ]
     },
     "metadata": {},
     "output_type": "display_data"
    },
    {
     "name": "stdout",
     "output_type": "stream",
     "text": [
      "\n"
     ]
    },
    {
     "name": "stderr",
     "output_type": "stream",
     "text": [
      "ntree_limit is deprecated, use `iteration_range` or model slicing instead.\n",
      "Using 352 background data samples could cause slower run times. Consider using shap.sample(data, K) or shap.kmeans(data, K) to summarize the background as K samples.\n"
     ]
    },
    {
     "data": {
      "application/vnd.jupyter.widget-view+json": {
       "model_id": "cc55cefd20ef45dd9ff0aafc3a5bc738",
       "version_major": 2,
       "version_minor": 0
      },
      "text/plain": [
       "HBox(children=(FloatProgress(value=0.0, max=352.0), HTML(value='')))"
      ]
     },
     "metadata": {},
     "output_type": "display_data"
    },
    {
     "name": "stdout",
     "output_type": "stream",
     "text": [
      "\n",
      "ROC_NO_SHAP: 0.6096724823997551\n",
      "ROC_SHAP: 0.7366391184573002\n",
      "['resp_flg', 'afib_flg', 'age', 'bun_first', 'sapsi_first']\n",
      "['xgb_proba', 'KNN_proba', 'KNN_predict', 'MLP_proba', 'resp_flg', 'afib_flg', 'age', 'bun_first', 'sapsi_first']\n",
      "['xgb_proba', 'age_xgb_shap', 'KNN_proba', 'sapsi_first_xgb_shap', 'KNN_predict', 'bun_first_xgb_shap', 'age_KNN_shap', 'bun_first_KNN_shap', 'MLP_proba', 'sapsi_first_KNN_shap', 'afib_flg_xgb_shap', 'age_MLP_shap', 'resp_flg', 'afib_flg', 'sapsi_first_MLP_shap', 'resp_flg_xgb_shap', 'bun_first', 'sapsi_first', 'resp_flg_KNN_shap']\n",
      "ROC_NO_SHAP: 0.6096724823997551\n",
      "ROC_SHAP: 0.7366391184573002\n"
     ]
    },
    {
     "data": {
      "image/png": "[encoded data removed]",
      "text/plain": [
       "<Figure size 432x288 with 1 Axes>"
      ]
     },
     "metadata": {
      "needs_background": "light"
     },
     "output_type": "display_data"
    }
   ],
   "source": [
    "# Dataset 1 link: https://physionet.org/content/mimic2-iaccd/1.0/\n",
    "filepath = 'Datasets/full_cohort_data.csv'\n",
    "y_label = 'day_28_flg'\n",
    "hot_encode_labels = ['day_icu_intime', 'service_unit']\n",
    "features_to_drop = ['mort_day_censored', 'censor_flg', 'hosp_exp_flg', 'icu_exp_flg', 'stroke_flg']\n",
    "\n",
    "model_parameters = {}\n",
    "\n",
    "model_parameters['xgb'] = {}\n",
    "model_parameters['xgb']['n_estimators'] = 151\n",
    "model_parameters['xgb']['max_depth'] = 4\n",
    "\n",
    "model_parameters['KNN'] = {}\n",
    "model_parameters['KNN']['n_neighbors'] = 4\n",
    "\n",
    "model_parameters['MLP'] = {}\n",
    "model_parameters['MLP']['alpha'] = 0.01\n",
    "model_parameters['MLP']['max_iter'] = 1000\n",
    "\n",
    "model_parameters['feature_selection_level_1'] = {}\n",
    "model_parameters['feature_selection_level_1']['technique'] = 'roc'\n",
    "\n",
    "model_parameters['feature_selection_meta'] = {}\n",
    "model_parameters['feature_selection_meta']['technique'] = 'roc'\n",
    "\n",
    "\n",
    "X_train, X_test, y_train, y_test= prepare_csv_data(filepath=filepath, y_label=y_label, hot_encode_labels=hot_encode_labels, features_to_drop=features_to_drop)\n",
    "\n",
    "stacked_model = train_stacked_model_full(model_parameters, X_train, y_train)\n",
    "\n",
    "roc_no_shap, roc_shap, acc_no_shap, acc_shap = test_stacked_model_full(model_parameters, stacked_model, X_test, y_test)\n",
    "\n",
    "print('ROC_NO_SHAP: ' + str(roc_no_shap))\n",
    "print('ROC_SHAP: ' + str(roc_shap))\n",
    "\n",
    "print(stacked_model['level_1_features'])\n",
    "print(stacked_model['meta_features'])\n",
    "print(stacked_model['meta_shap_features'])\n",
    "\n",
    "print('ROC_NO_SHAP: ' + str(roc_no_shap))\n",
    "print('ROC_SHAP: ' + str(roc_shap))\n",
    "\n",
    "proba = stacked_model['meta'].predict_proba(X_test[stacked_model['meta_features']])[:, 1]\n",
    "fpr, tpr, threshold = roc_curve(y_test, proba)\n",
    "roc_auc = auc(fpr, tpr)\n",
    "\n",
    "plt.title('Receiver Operating Characteristic')\n",
    "plt.plot(fpr, tpr, 'b', label = 'AUC = %0.2f' % roc_auc)\n",
    "\n",
    "proba = stacked_model['meta_shap'].predict_proba(X_test[stacked_model['meta_shap_features']])[:, 1]\n",
    "fpr, tpr, threshold = roc_curve(y_test, proba)\n",
    "roc_auc = auc(fpr, tpr)\n",
    "\n",
    "plt.plot(fpr, tpr, 'r', label = 'AUC = %0.2f' % roc_auc)\n",
    "\n",
    "plt.legend(loc = 'lower right')\n",
    "plt.plot([0, 1], [0, 1],'r--')\n",
    "plt.xlim([0, 1])\n",
    "plt.ylim([0, 1])\n",
    "plt.ylabel('True Positive Rate')\n",
    "plt.xlabel('False Positive Rate')\n",
    "plt.show()"
   ]
  },
  {
   "cell_type": "code",
   "execution_count": 3,
   "metadata": {},
   "outputs": [
    {
     "name": "stderr",
     "output_type": "stream",
     "text": [
      "Using 712 background data samples could cause slower run times. Consider using shap.sample(data, K) or shap.kmeans(data, K) to summarize the background as K samples.\n"
     ]
    },
    {
     "data": {
      "application/vnd.jupyter.widget-view+json": {
       "model_id": "f641d5b57c584a4e97665fde977f5ba9",
       "version_major": 2,
       "version_minor": 0
      },
      "text/plain": [
       "HBox(children=(FloatProgress(value=0.0, max=712.0), HTML(value='')))"
      ]
     },
     "metadata": {},
     "output_type": "display_data"
    },
    {
     "name": "stdout",
     "output_type": "stream",
     "text": [
      "\n"
     ]
    },
    {
     "name": "stderr",
     "output_type": "stream",
     "text": [
      "ntree_limit is deprecated, use `iteration_range` or model slicing instead.\n",
      "Using 712 background data samples could cause slower run times. Consider using shap.sample(data, K) or shap.kmeans(data, K) to summarize the background as K samples.\n"
     ]
    },
    {
     "data": {
      "application/vnd.jupyter.widget-view+json": {
       "model_id": "5395e1482842498181b76faed8fb3f4c",
       "version_major": 2,
       "version_minor": 0
      },
      "text/plain": [
       "HBox(children=(FloatProgress(value=0.0, max=712.0), HTML(value='')))"
      ]
     },
     "metadata": {},
     "output_type": "display_data"
    },
    {
     "name": "stdout",
     "output_type": "stream",
     "text": [
      "\n"
     ]
    },
    {
     "name": "stderr",
     "output_type": "stream",
     "text": [
      "Using 352 background data samples could cause slower run times. Consider using shap.sample(data, K) or shap.kmeans(data, K) to summarize the background as K samples.\n"
     ]
    },
    {
     "data": {
      "application/vnd.jupyter.widget-view+json": {
       "model_id": "8830db9eb2274bc7a422a0d1c455b5bf",
       "version_major": 2,
       "version_minor": 0
      },
      "text/plain": [
       "HBox(children=(FloatProgress(value=0.0, max=352.0), HTML(value='')))"
      ]
     },
     "metadata": {},
     "output_type": "display_data"
    },
    {
     "name": "stdout",
     "output_type": "stream",
     "text": [
      "\n"
     ]
    },
    {
     "name": "stderr",
     "output_type": "stream",
     "text": [
      "ntree_limit is deprecated, use `iteration_range` or model slicing instead.\n",
      "Using 352 background data samples could cause slower run times. Consider using shap.sample(data, K) or shap.kmeans(data, K) to summarize the background as K samples.\n"
     ]
    },
    {
     "data": {
      "application/vnd.jupyter.widget-view+json": {
       "model_id": "ff6cbfe4931f411ca015e0635d0d6856",
       "version_major": 2,
       "version_minor": 0
      },
      "text/plain": [
       "HBox(children=(FloatProgress(value=0.0, max=352.0), HTML(value='')))"
      ]
     },
     "metadata": {},
     "output_type": "display_data"
    },
    {
     "name": "stdout",
     "output_type": "stream",
     "text": [
      "\n",
      "ROC_NO_SHAP: 0.9208448117539026\n",
      "ROC_SHAP: 0.9335782063054789\n",
      "['hosp_exp_flg', 'icu_exp_flg', 'stroke_flg', 'resp_flg', 'afib_flg', 'age', 'bun_first', 'sapsi_first']\n",
      "['xgb_predict', 'icu_exp_flg', 'KNN_proba', 'KNN_predict', 'stroke_flg', 'resp_flg', 'afib_flg', 'age', 'bun_first', 'sapsi_first']\n",
      "['xgb_predict', 'icu_exp_flg_MLP_shap', 'hosp_exp_flg_KNN_shap', 'age_MLP_shap', 'KNN_proba', 'icu_exp_flg_KNN_shap', 'KNN_predict', 'age_KNN_shap', 'bun_first_KNN_shap', 'stroke_flg', 'sapsi_first_KNN_shap', 'age_xgb_shap', 'resp_flg', 'afib_flg', 'age', 'bun_first_MLP_shap', 'afib_flg_xgb_shap', 'bun_first', 'bun_first_xgb_shap', 'sapsi_first', 'resp_flg_KNN_shap']\n",
      "ROC_NO_SHAP: 0.9208448117539026\n",
      "ROC_SHAP: 0.9335782063054789\n"
     ]
    },
    {
     "data": {
      "image/png": "[encoded data removed]",
      "text/plain": [
       "<Figure size 432x288 with 1 Axes>"
      ]
     },
     "metadata": {
      "needs_background": "light"
     },
     "output_type": "display_data"
    }
   ],
   "source": [
    "# Dataset 1 link: https://physionet.org/content/mimic2-iaccd/1.0/\n",
    "filepath = 'Datasets/full_cohort_data.csv'\n",
    "y_label = 'day_28_flg'\n",
    "hot_encode_labels = ['day_icu_intime', 'service_unit']\n",
    "features_to_drop = ['mort_day_censored', 'censor_flg']\n",
    "\n",
    "model_parameters = {}\n",
    "\n",
    "model_parameters['xgb'] = {}\n",
    "model_parameters['xgb']['n_estimators'] = 151\n",
    "model_parameters['xgb']['max_depth'] = 4\n",
    "\n",
    "model_parameters['KNN'] = {}\n",
    "model_parameters['KNN']['n_neighbors'] = 4\n",
    "\n",
    "model_parameters['MLP'] = {}\n",
    "model_parameters['MLP']['alpha'] = 0.01\n",
    "model_parameters['MLP']['max_iter'] = 1000\n",
    "\n",
    "model_parameters['feature_selection_level_1'] = {}\n",
    "model_parameters['feature_selection_level_1']['technique'] = 'roc'\n",
    "\n",
    "model_parameters['feature_selection_meta'] = {}\n",
    "model_parameters['feature_selection_meta']['technique'] = 'roc'\n",
    "\n",
    "\n",
    "X_train, X_test, y_train, y_test= prepare_csv_data(filepath=filepath, y_label=y_label, hot_encode_labels=hot_encode_labels, features_to_drop=features_to_drop)\n",
    "\n",
    "stacked_model = train_stacked_model_full(model_parameters, X_train, y_train)\n",
    "\n",
    "roc_no_shap, roc_shap, acc_no_shap, acc_shap = test_stacked_model_full(model_parameters, stacked_model, X_test, y_test)\n",
    "\n",
    "print('ROC_NO_SHAP: ' + str(roc_no_shap))\n",
    "print('ROC_SHAP: ' + str(roc_shap))\n",
    "\n",
    "print(stacked_model['level_1_features'])\n",
    "print(stacked_model['meta_features'])\n",
    "print(stacked_model['meta_shap_features'])\n",
    "\n",
    "print('ROC_NO_SHAP: ' + str(roc_no_shap))\n",
    "print('ROC_SHAP: ' + str(roc_shap))\n",
    "\n",
    "proba = stacked_model['meta'].predict_proba(X_test[stacked_model['meta_features']])[:, 1]\n",
    "fpr, tpr, threshold = roc_curve(y_test, proba)\n",
    "roc_auc = auc(fpr, tpr)\n",
    "\n",
    "plt.title('Receiver Operating Characteristic')\n",
    "plt.plot(fpr, tpr, 'b', label = 'AUC = %0.2f' % roc_auc)\n",
    "\n",
    "proba = stacked_model['meta_shap'].predict_proba(X_test[stacked_model['meta_shap_features']])[:, 1]\n",
    "fpr, tpr, threshold = roc_curve(y_test, proba)\n",
    "roc_auc = auc(fpr, tpr)\n",
    "\n",
    "plt.plot(fpr, tpr, 'r', label = 'AUC = %0.2f' % roc_auc)\n",
    "\n",
    "plt.legend(loc = 'lower right')\n",
    "plt.plot([0, 1], [0, 1],'r--')\n",
    "plt.xlim([0, 1])\n",
    "plt.ylim([0, 1])\n",
    "plt.ylabel('True Positive Rate')\n",
    "plt.xlabel('False Positive Rate')\n",
    "plt.show()"
   ]
  },
  {
   "cell_type": "markdown",
   "metadata": {},
   "source": [
    "# FINDING BEST MODEL FOR BOTH META MODELS"
   ]
  },
  {
   "cell_type": "code",
   "execution_count": 34,
   "metadata": {},
   "outputs": [
    {
     "name": "stdout",
     "output_type": "stream",
     "text": [
      "Number of models to be generated: 1\n",
      "Output filename: parameter_experiment_results/parameter_results_210922_172024.csv\n"
     ]
    },
    {
     "name": "stderr",
     "output_type": "stream",
     "text": [
      "Using 712 background data samples could cause slower run times. Consider using shap.sample(data, K) or shap.kmeans(data, K) to summarize the background as K samples.\n"
     ]
    },
    {
     "data": {
      "application/vnd.jupyter.widget-view+json": {
       "model_id": "a3fcd9bb8ff14ab48f37a4f7f485487e",
       "version_major": 2,
       "version_minor": 0
      },
      "text/plain": [
       "HBox(children=(FloatProgress(value=0.0, max=712.0), HTML(value='')))"
      ]
     },
     "metadata": {},
     "output_type": "display_data"
    },
    {
     "name": "stdout",
     "output_type": "stream",
     "text": [
      "\n"
     ]
    },
    {
     "ename": "KeyboardInterrupt",
     "evalue": "",
     "output_type": "error",
     "traceback": [
      "\u001b[0;31m---------------------------------------------------------------------------\u001b[0m",
      "\u001b[0;31mKeyboardInterrupt\u001b[0m                         Traceback (most recent call last)",
      "\u001b[0;32m<ipython-input-34-3e80df938e52>\u001b[0m in \u001b[0;36m<module>\u001b[0;34m\u001b[0m\n\u001b[1;32m     69\u001b[0m                         \u001b[0mX_train\u001b[0m\u001b[0;34m,\u001b[0m \u001b[0mX_test\u001b[0m\u001b[0;34m,\u001b[0m \u001b[0my_train\u001b[0m\u001b[0;34m,\u001b[0m \u001b[0my_test\u001b[0m \u001b[0;34m=\u001b[0m \u001b[0mprepare_csv_data\u001b[0m\u001b[0;34m(\u001b[0m\u001b[0mfilepath\u001b[0m\u001b[0;34m=\u001b[0m\u001b[0mfilepath\u001b[0m\u001b[0;34m,\u001b[0m \u001b[0my_label\u001b[0m\u001b[0;34m=\u001b[0m\u001b[0my_label\u001b[0m\u001b[0;34m,\u001b[0m \u001b[0mhot_encode_labels\u001b[0m\u001b[0;34m=\u001b[0m\u001b[0mhot_encode_labels\u001b[0m\u001b[0;34m,\u001b[0m \u001b[0mfeatures_to_drop\u001b[0m\u001b[0;34m=\u001b[0m\u001b[0mfeatures_to_drop\u001b[0m\u001b[0;34m)\u001b[0m\u001b[0;34m\u001b[0m\u001b[0;34m\u001b[0m\u001b[0m\n\u001b[1;32m     70\u001b[0m                         \u001b[0mmodel_parameters\u001b[0m\u001b[0;34m[\u001b[0m\u001b[0;34m'MLP'\u001b[0m\u001b[0;34m]\u001b[0m\u001b[0;34m[\u001b[0m\u001b[0;34m'alpha'\u001b[0m\u001b[0;34m]\u001b[0m \u001b[0;34m=\u001b[0m \u001b[0mMLP_alpha\u001b[0m\u001b[0;34m\u001b[0m\u001b[0;34m\u001b[0m\u001b[0m\n\u001b[0;32m---> 71\u001b[0;31m                         \u001b[0mstacked_model\u001b[0m \u001b[0;34m=\u001b[0m \u001b[0mtrain_stacked_model_full\u001b[0m\u001b[0;34m(\u001b[0m\u001b[0mmodel_parameters\u001b[0m\u001b[0;34m,\u001b[0m \u001b[0mX_train\u001b[0m\u001b[0;34m,\u001b[0m \u001b[0my_train\u001b[0m\u001b[0;34m)\u001b[0m\u001b[0;34m\u001b[0m\u001b[0;34m\u001b[0m\u001b[0m\n\u001b[0m\u001b[1;32m     72\u001b[0m                         \u001b[0mroc_no_shap\u001b[0m\u001b[0;34m,\u001b[0m \u001b[0mroc_shap\u001b[0m\u001b[0;34m,\u001b[0m \u001b[0macc_no_shap\u001b[0m\u001b[0;34m,\u001b[0m \u001b[0macc_shap\u001b[0m \u001b[0;34m=\u001b[0m \u001b[0mtest_stacked_model_full\u001b[0m\u001b[0;34m(\u001b[0m\u001b[0mmodel_parameters\u001b[0m\u001b[0;34m,\u001b[0m \u001b[0mstacked_model\u001b[0m\u001b[0;34m,\u001b[0m \u001b[0mX_test\u001b[0m\u001b[0;34m,\u001b[0m \u001b[0my_test\u001b[0m\u001b[0;34m)\u001b[0m\u001b[0;34m\u001b[0m\u001b[0;34m\u001b[0m\u001b[0m\n\u001b[1;32m     73\u001b[0m                         new_row = {\n",
      "\u001b[0;32m~/GitHub/SHAP-boost/Validation/stacked_model.py\u001b[0m in \u001b[0;36mtrain_stacked_model_full\u001b[0;34m(model_parameters, X_train, y_train)\u001b[0m\n\u001b[1;32m    277\u001b[0m     \u001b[0mstacked_model\u001b[0m\u001b[0;34m,\u001b[0m \u001b[0mlevel_1_features\u001b[0m \u001b[0;34m=\u001b[0m \u001b[0mtrain_level_1\u001b[0m\u001b[0;34m(\u001b[0m\u001b[0mmodel_parameters\u001b[0m\u001b[0;34m,\u001b[0m \u001b[0mX_train\u001b[0m\u001b[0;34m,\u001b[0m \u001b[0my_train\u001b[0m\u001b[0;34m)\u001b[0m\u001b[0;34m\u001b[0m\u001b[0;34m\u001b[0m\u001b[0m\n\u001b[1;32m    278\u001b[0m \u001b[0;34m\u001b[0m\u001b[0m\n\u001b[0;32m--> 279\u001b[0;31m     \u001b[0mX_train\u001b[0m \u001b[0;34m=\u001b[0m \u001b[0madd_shap_pred_proba_to_level_1\u001b[0m\u001b[0;34m(\u001b[0m\u001b[0mmodel_parameters\u001b[0m\u001b[0;34m,\u001b[0m \u001b[0mstacked_model\u001b[0m\u001b[0;34m,\u001b[0m \u001b[0mX_train\u001b[0m\u001b[0;34m,\u001b[0m \u001b[0my_train\u001b[0m\u001b[0;34m,\u001b[0m \u001b[0mlevel_1_features\u001b[0m\u001b[0;34m)\u001b[0m\u001b[0;34m\u001b[0m\u001b[0;34m\u001b[0m\u001b[0m\n\u001b[0m\u001b[1;32m    280\u001b[0m \u001b[0;34m\u001b[0m\u001b[0m\n\u001b[1;32m    281\u001b[0m     \u001b[0mstacked_model\u001b[0m\u001b[0;34m,\u001b[0m \u001b[0mshap_columns\u001b[0m\u001b[0;34m,\u001b[0m \u001b[0mmeta_features\u001b[0m\u001b[0;34m,\u001b[0m \u001b[0mmeta_shap_features\u001b[0m \u001b[0;34m=\u001b[0m \u001b[0mtrain_meta_model\u001b[0m\u001b[0;34m(\u001b[0m\u001b[0mmodel_parameters\u001b[0m\u001b[0;34m,\u001b[0m \u001b[0mstacked_model\u001b[0m\u001b[0;34m,\u001b[0m \u001b[0mX_train\u001b[0m\u001b[0;34m,\u001b[0m \u001b[0my_train\u001b[0m\u001b[0;34m,\u001b[0m \u001b[0mlevel_1_features\u001b[0m\u001b[0;34m)\u001b[0m\u001b[0;34m\u001b[0m\u001b[0;34m\u001b[0m\u001b[0m\n",
      "\u001b[0;32m~/GitHub/SHAP-boost/Validation/stacked_model.py\u001b[0m in \u001b[0;36madd_shap_pred_proba_to_level_1\u001b[0;34m(model_parameters, stacked_model, X, y, features)\u001b[0m\n\u001b[1;32m    150\u001b[0m \u001b[0;31m#     X = add_shap_pred_proba_to_df(model=stacked_model['SVC'], model_type='SVC', df=X, index_shap=True, features=features)\u001b[0m\u001b[0;34m\u001b[0m\u001b[0;34m\u001b[0m\u001b[0;34m\u001b[0m\u001b[0m\n\u001b[1;32m    151\u001b[0m         \u001b[0;32mif\u001b[0m \u001b[0mmodel\u001b[0m \u001b[0;34m==\u001b[0m \u001b[0;34m'MLP'\u001b[0m\u001b[0;34m:\u001b[0m\u001b[0;34m\u001b[0m\u001b[0;34m\u001b[0m\u001b[0m\n\u001b[0;32m--> 152\u001b[0;31m             \u001b[0mX\u001b[0m \u001b[0;34m=\u001b[0m \u001b[0madd_shap_pred_proba_to_df\u001b[0m\u001b[0;34m(\u001b[0m\u001b[0mmodel\u001b[0m\u001b[0;34m=\u001b[0m\u001b[0mstacked_model\u001b[0m\u001b[0;34m[\u001b[0m\u001b[0;34m'MLP'\u001b[0m\u001b[0;34m]\u001b[0m\u001b[0;34m,\u001b[0m \u001b[0mmodel_type\u001b[0m\u001b[0;34m=\u001b[0m\u001b[0;34m'MLP'\u001b[0m\u001b[0;34m,\u001b[0m \u001b[0mdf\u001b[0m\u001b[0;34m=\u001b[0m\u001b[0mX\u001b[0m\u001b[0;34m,\u001b[0m \u001b[0mindex_shap\u001b[0m\u001b[0;34m=\u001b[0m\u001b[0;32mTrue\u001b[0m\u001b[0;34m,\u001b[0m \u001b[0mfeatures\u001b[0m\u001b[0;34m=\u001b[0m\u001b[0mfeatures\u001b[0m\u001b[0;34m)\u001b[0m\u001b[0;34m\u001b[0m\u001b[0;34m\u001b[0m\u001b[0m\n\u001b[0m\u001b[1;32m    153\u001b[0m \u001b[0;31m#     X = add_shap_pred_proba_to_df(model=stacked_model['NuSVC'], model_type='NuSVC', df=X, index_shap=True, features=features)\u001b[0m\u001b[0;34m\u001b[0m\u001b[0;34m\u001b[0m\u001b[0;34m\u001b[0m\u001b[0m\n\u001b[1;32m    154\u001b[0m     \u001b[0;32mreturn\u001b[0m \u001b[0mX\u001b[0m\u001b[0;34m\u001b[0m\u001b[0;34m\u001b[0m\u001b[0m\n",
      "\u001b[0;32m~/GitHub/SHAP-boost/Validation/stacked_model.py\u001b[0m in \u001b[0;36madd_shap_pred_proba_to_df\u001b[0;34m(model, model_type, df, index_shap, features)\u001b[0m\n\u001b[1;32m     59\u001b[0m \u001b[0;34m\u001b[0m\u001b[0m\n\u001b[1;32m     60\u001b[0m \u001b[0;32mdef\u001b[0m \u001b[0madd_shap_pred_proba_to_df\u001b[0m\u001b[0;34m(\u001b[0m\u001b[0mmodel\u001b[0m\u001b[0;34m,\u001b[0m \u001b[0mmodel_type\u001b[0m\u001b[0;34m,\u001b[0m \u001b[0mdf\u001b[0m\u001b[0;34m,\u001b[0m \u001b[0mindex_shap\u001b[0m\u001b[0;34m=\u001b[0m\u001b[0;32mTrue\u001b[0m\u001b[0;34m,\u001b[0m \u001b[0mfeatures\u001b[0m\u001b[0;34m=\u001b[0m\u001b[0;34m[\u001b[0m\u001b[0;34m]\u001b[0m\u001b[0;34m)\u001b[0m\u001b[0;34m:\u001b[0m\u001b[0;34m\u001b[0m\u001b[0;34m\u001b[0m\u001b[0m\n\u001b[0;32m---> 61\u001b[0;31m     \u001b[0mdf\u001b[0m \u001b[0;34m=\u001b[0m \u001b[0madd_shap_to_df\u001b[0m\u001b[0;34m(\u001b[0m\u001b[0mmodel\u001b[0m\u001b[0;34m=\u001b[0m\u001b[0mmodel\u001b[0m\u001b[0;34m,\u001b[0m \u001b[0mmodel_type\u001b[0m\u001b[0;34m=\u001b[0m\u001b[0mmodel_type\u001b[0m\u001b[0;34m,\u001b[0m \u001b[0mdf\u001b[0m\u001b[0;34m=\u001b[0m\u001b[0mdf\u001b[0m\u001b[0;34m,\u001b[0m \u001b[0mindex_shap\u001b[0m\u001b[0;34m=\u001b[0m\u001b[0mindex_shap\u001b[0m\u001b[0;34m,\u001b[0m \u001b[0mfeatures\u001b[0m\u001b[0;34m=\u001b[0m\u001b[0mfeatures\u001b[0m\u001b[0;34m)\u001b[0m\u001b[0;34m\u001b[0m\u001b[0;34m\u001b[0m\u001b[0m\n\u001b[0m\u001b[1;32m     62\u001b[0m     \u001b[0mdf\u001b[0m \u001b[0;34m=\u001b[0m \u001b[0madd_predict_proba_to_df\u001b[0m\u001b[0;34m(\u001b[0m\u001b[0mmodel\u001b[0m\u001b[0;34m=\u001b[0m\u001b[0mmodel\u001b[0m\u001b[0;34m,\u001b[0m \u001b[0mmodel_type\u001b[0m\u001b[0;34m=\u001b[0m\u001b[0mmodel_type\u001b[0m\u001b[0;34m,\u001b[0m \u001b[0mdf\u001b[0m\u001b[0;34m=\u001b[0m\u001b[0mdf\u001b[0m\u001b[0;34m,\u001b[0m \u001b[0mfeatures\u001b[0m\u001b[0;34m=\u001b[0m\u001b[0mfeatures\u001b[0m\u001b[0;34m)\u001b[0m\u001b[0;34m\u001b[0m\u001b[0;34m\u001b[0m\u001b[0m\n\u001b[1;32m     63\u001b[0m     \u001b[0;32mreturn\u001b[0m \u001b[0mdf\u001b[0m\u001b[0;34m\u001b[0m\u001b[0;34m\u001b[0m\u001b[0m\n",
      "\u001b[0;32m~/GitHub/SHAP-boost/Validation/stacked_model.py\u001b[0m in \u001b[0;36madd_shap_to_df\u001b[0;34m(model, model_type, df, index_shap, features)\u001b[0m\n\u001b[1;32m     43\u001b[0m     \u001b[0;32mif\u001b[0m \u001b[0mindex_shap\u001b[0m\u001b[0;34m:\u001b[0m\u001b[0;34m\u001b[0m\u001b[0;34m\u001b[0m\u001b[0m\n\u001b[1;32m     44\u001b[0m         \u001b[0mexplainer\u001b[0m \u001b[0;34m=\u001b[0m \u001b[0mchoose_explainer\u001b[0m\u001b[0;34m(\u001b[0m\u001b[0mmodel\u001b[0m\u001b[0;34m=\u001b[0m\u001b[0mmodel\u001b[0m\u001b[0;34m,\u001b[0m \u001b[0mX\u001b[0m\u001b[0;34m=\u001b[0m\u001b[0mdf\u001b[0m\u001b[0;34m[\u001b[0m\u001b[0mfeatures\u001b[0m\u001b[0;34m]\u001b[0m\u001b[0;34m,\u001b[0m \u001b[0mmodel_type\u001b[0m\u001b[0;34m=\u001b[0m\u001b[0mmodel_type\u001b[0m\u001b[0;34m)\u001b[0m\u001b[0;34m\u001b[0m\u001b[0;34m\u001b[0m\u001b[0m\n\u001b[0;32m---> 45\u001b[0;31m         \u001b[0mshap_values\u001b[0m \u001b[0;34m=\u001b[0m \u001b[0mexplainer\u001b[0m\u001b[0;34m.\u001b[0m\u001b[0mshap_values\u001b[0m\u001b[0;34m(\u001b[0m\u001b[0mdf\u001b[0m\u001b[0;34m[\u001b[0m\u001b[0mfeatures\u001b[0m\u001b[0;34m]\u001b[0m\u001b[0;34m)\u001b[0m\u001b[0;34m\u001b[0m\u001b[0;34m\u001b[0m\u001b[0m\n\u001b[0m\u001b[1;32m     46\u001b[0m \u001b[0;31m#         display('Generated SHAP values for model type: ' + model_type)\u001b[0m\u001b[0;34m\u001b[0m\u001b[0;34m\u001b[0m\u001b[0;34m\u001b[0m\u001b[0m\n\u001b[1;32m     47\u001b[0m         \u001b[0;32mfor\u001b[0m \u001b[0mfeat\u001b[0m \u001b[0;32min\u001b[0m \u001b[0mfeatures\u001b[0m\u001b[0;34m:\u001b[0m\u001b[0;34m\u001b[0m\u001b[0;34m\u001b[0m\u001b[0m\n",
      "\u001b[0;32m~/.local/lib/python3.6/site-packages/shap/explainers/_kernel.py\u001b[0m in \u001b[0;36mshap_values\u001b[0;34m(self, X, **kwargs)\u001b[0m\n\u001b[1;32m    184\u001b[0m                 \u001b[0;32mif\u001b[0m \u001b[0mself\u001b[0m\u001b[0;34m.\u001b[0m\u001b[0mkeep_index\u001b[0m\u001b[0;34m:\u001b[0m\u001b[0;34m\u001b[0m\u001b[0;34m\u001b[0m\u001b[0m\n\u001b[1;32m    185\u001b[0m                     \u001b[0mdata\u001b[0m \u001b[0;34m=\u001b[0m \u001b[0mconvert_to_instance_with_index\u001b[0m\u001b[0;34m(\u001b[0m\u001b[0mdata\u001b[0m\u001b[0;34m,\u001b[0m \u001b[0mcolumn_name\u001b[0m\u001b[0;34m,\u001b[0m \u001b[0mindex_value\u001b[0m\u001b[0;34m[\u001b[0m\u001b[0mi\u001b[0m\u001b[0;34m:\u001b[0m\u001b[0mi\u001b[0m \u001b[0;34m+\u001b[0m \u001b[0;36m1\u001b[0m\u001b[0;34m]\u001b[0m\u001b[0;34m,\u001b[0m \u001b[0mindex_name\u001b[0m\u001b[0;34m)\u001b[0m\u001b[0;34m\u001b[0m\u001b[0;34m\u001b[0m\u001b[0m\n\u001b[0;32m--> 186\u001b[0;31m                 \u001b[0mexplanations\u001b[0m\u001b[0;34m.\u001b[0m\u001b[0mappend\u001b[0m\u001b[0;34m(\u001b[0m\u001b[0mself\u001b[0m\u001b[0;34m.\u001b[0m\u001b[0mexplain\u001b[0m\u001b[0;34m(\u001b[0m\u001b[0mdata\u001b[0m\u001b[0;34m,\u001b[0m \u001b[0;34m**\u001b[0m\u001b[0mkwargs\u001b[0m\u001b[0;34m)\u001b[0m\u001b[0;34m)\u001b[0m\u001b[0;34m\u001b[0m\u001b[0;34m\u001b[0m\u001b[0m\n\u001b[0m\u001b[1;32m    187\u001b[0m \u001b[0;34m\u001b[0m\u001b[0m\n\u001b[1;32m    188\u001b[0m             \u001b[0;31m# vector-output\u001b[0m\u001b[0;34m\u001b[0m\u001b[0;34m\u001b[0m\u001b[0;34m\u001b[0m\u001b[0m\n",
      "\u001b[0;32m~/.local/lib/python3.6/site-packages/shap/explainers/_kernel.py\u001b[0m in \u001b[0;36mexplain\u001b[0;34m(self, incoming_instance, **kwargs)\u001b[0m\n\u001b[1;32m    209\u001b[0m         \u001b[0;31m# find the feature groups we will test. If a feature does not change from its\u001b[0m\u001b[0;34m\u001b[0m\u001b[0;34m\u001b[0m\u001b[0;34m\u001b[0m\u001b[0m\n\u001b[1;32m    210\u001b[0m         \u001b[0;31m# current value then we know it doesn't impact the model\u001b[0m\u001b[0;34m\u001b[0m\u001b[0;34m\u001b[0m\u001b[0;34m\u001b[0m\u001b[0m\n\u001b[0;32m--> 211\u001b[0;31m         \u001b[0mself\u001b[0m\u001b[0;34m.\u001b[0m\u001b[0mvaryingInds\u001b[0m \u001b[0;34m=\u001b[0m \u001b[0mself\u001b[0m\u001b[0;34m.\u001b[0m\u001b[0mvarying_groups\u001b[0m\u001b[0;34m(\u001b[0m\u001b[0minstance\u001b[0m\u001b[0;34m.\u001b[0m\u001b[0mx\u001b[0m\u001b[0;34m)\u001b[0m\u001b[0;34m\u001b[0m\u001b[0;34m\u001b[0m\u001b[0m\n\u001b[0m\u001b[1;32m    212\u001b[0m         \u001b[0;32mif\u001b[0m \u001b[0mself\u001b[0m\u001b[0;34m.\u001b[0m\u001b[0mdata\u001b[0m\u001b[0;34m.\u001b[0m\u001b[0mgroups\u001b[0m \u001b[0;32mis\u001b[0m \u001b[0;32mNone\u001b[0m\u001b[0;34m:\u001b[0m\u001b[0;34m\u001b[0m\u001b[0;34m\u001b[0m\u001b[0m\n\u001b[1;32m    213\u001b[0m             \u001b[0mself\u001b[0m\u001b[0;34m.\u001b[0m\u001b[0mvaryingFeatureGroups\u001b[0m \u001b[0;34m=\u001b[0m \u001b[0mnp\u001b[0m\u001b[0;34m.\u001b[0m\u001b[0marray\u001b[0m\u001b[0;34m(\u001b[0m\u001b[0;34m[\u001b[0m\u001b[0mi\u001b[0m \u001b[0;32mfor\u001b[0m \u001b[0mi\u001b[0m \u001b[0;32min\u001b[0m \u001b[0mself\u001b[0m\u001b[0;34m.\u001b[0m\u001b[0mvaryingInds\u001b[0m\u001b[0;34m]\u001b[0m\u001b[0;34m)\u001b[0m\u001b[0;34m\u001b[0m\u001b[0;34m\u001b[0m\u001b[0m\n",
      "\u001b[0;32m~/.local/lib/python3.6/site-packages/shap/explainers/_kernel.py\u001b[0m in \u001b[0;36mvarying_groups\u001b[0;34m(self, x)\u001b[0m\n\u001b[1;32m    407\u001b[0m                         \u001b[0;32mcontinue\u001b[0m\u001b[0;34m\u001b[0m\u001b[0;34m\u001b[0m\u001b[0m\n\u001b[1;32m    408\u001b[0m                     \u001b[0mx_group\u001b[0m \u001b[0;34m=\u001b[0m \u001b[0mx_group\u001b[0m\u001b[0;34m.\u001b[0m\u001b[0mtodense\u001b[0m\u001b[0;34m(\u001b[0m\u001b[0;34m)\u001b[0m\u001b[0;34m\u001b[0m\u001b[0;34m\u001b[0m\u001b[0m\n\u001b[0;32m--> 409\u001b[0;31m                 \u001b[0mnum_mismatches\u001b[0m \u001b[0;34m=\u001b[0m \u001b[0mnp\u001b[0m\u001b[0;34m.\u001b[0m\u001b[0msum\u001b[0m\u001b[0;34m(\u001b[0m\u001b[0mnp\u001b[0m\u001b[0;34m.\u001b[0m\u001b[0mfrompyfunc\u001b[0m\u001b[0;34m(\u001b[0m\u001b[0mself\u001b[0m\u001b[0;34m.\u001b[0m\u001b[0mnot_equal\u001b[0m\u001b[0;34m,\u001b[0m \u001b[0;36m2\u001b[0m\u001b[0;34m,\u001b[0m \u001b[0;36m1\u001b[0m\u001b[0;34m)\u001b[0m\u001b[0;34m(\u001b[0m\u001b[0mx_group\u001b[0m\u001b[0;34m,\u001b[0m \u001b[0mself\u001b[0m\u001b[0;34m.\u001b[0m\u001b[0mdata\u001b[0m\u001b[0;34m.\u001b[0m\u001b[0mdata\u001b[0m\u001b[0;34m[\u001b[0m\u001b[0;34m:\u001b[0m\u001b[0;34m,\u001b[0m \u001b[0minds\u001b[0m\u001b[0;34m]\u001b[0m\u001b[0;34m)\u001b[0m\u001b[0;34m)\u001b[0m\u001b[0;34m\u001b[0m\u001b[0;34m\u001b[0m\u001b[0m\n\u001b[0m\u001b[1;32m    410\u001b[0m                 \u001b[0mvarying\u001b[0m\u001b[0;34m[\u001b[0m\u001b[0mi\u001b[0m\u001b[0;34m]\u001b[0m \u001b[0;34m=\u001b[0m \u001b[0mnum_mismatches\u001b[0m \u001b[0;34m>\u001b[0m \u001b[0;36m0\u001b[0m\u001b[0;34m\u001b[0m\u001b[0;34m\u001b[0m\u001b[0m\n\u001b[1;32m    411\u001b[0m             \u001b[0mvarying_indices\u001b[0m \u001b[0;34m=\u001b[0m \u001b[0mnp\u001b[0m\u001b[0;34m.\u001b[0m\u001b[0mnonzero\u001b[0m\u001b[0;34m(\u001b[0m\u001b[0mvarying\u001b[0m\u001b[0;34m)\u001b[0m\u001b[0;34m[\u001b[0m\u001b[0;36m0\u001b[0m\u001b[0;34m]\u001b[0m\u001b[0;34m\u001b[0m\u001b[0;34m\u001b[0m\u001b[0m\n",
      "\u001b[0;32m~/.local/lib/python3.6/site-packages/shap/explainers/_kernel.py\u001b[0m in \u001b[0;36mnot_equal\u001b[0;34m(i, j)\u001b[0m\n\u001b[1;32m    394\u001b[0m         \u001b[0;32mif\u001b[0m \u001b[0misinstance\u001b[0m\u001b[0;34m(\u001b[0m\u001b[0mi\u001b[0m\u001b[0;34m,\u001b[0m \u001b[0mstr\u001b[0m\u001b[0;34m)\u001b[0m \u001b[0;32mor\u001b[0m \u001b[0misinstance\u001b[0m\u001b[0;34m(\u001b[0m\u001b[0mj\u001b[0m\u001b[0;34m,\u001b[0m \u001b[0mstr\u001b[0m\u001b[0;34m)\u001b[0m\u001b[0;34m:\u001b[0m\u001b[0;34m\u001b[0m\u001b[0;34m\u001b[0m\u001b[0m\n\u001b[1;32m    395\u001b[0m             \u001b[0;32mreturn\u001b[0m \u001b[0;36m0\u001b[0m \u001b[0;32mif\u001b[0m \u001b[0mi\u001b[0m \u001b[0;34m==\u001b[0m \u001b[0mj\u001b[0m \u001b[0;32melse\u001b[0m \u001b[0;36m1\u001b[0m\u001b[0;34m\u001b[0m\u001b[0;34m\u001b[0m\u001b[0m\n\u001b[0;32m--> 396\u001b[0;31m         \u001b[0;32mreturn\u001b[0m \u001b[0;36m0\u001b[0m \u001b[0;32mif\u001b[0m \u001b[0mnp\u001b[0m\u001b[0;34m.\u001b[0m\u001b[0misclose\u001b[0m\u001b[0;34m(\u001b[0m\u001b[0mi\u001b[0m\u001b[0;34m,\u001b[0m \u001b[0mj\u001b[0m\u001b[0;34m,\u001b[0m \u001b[0mequal_nan\u001b[0m\u001b[0;34m=\u001b[0m\u001b[0;32mTrue\u001b[0m\u001b[0;34m)\u001b[0m \u001b[0;32melse\u001b[0m \u001b[0;36m1\u001b[0m\u001b[0;34m\u001b[0m\u001b[0;34m\u001b[0m\u001b[0m\n\u001b[0m\u001b[1;32m    397\u001b[0m \u001b[0;34m\u001b[0m\u001b[0m\n\u001b[1;32m    398\u001b[0m     \u001b[0;32mdef\u001b[0m \u001b[0mvarying_groups\u001b[0m\u001b[0;34m(\u001b[0m\u001b[0mself\u001b[0m\u001b[0;34m,\u001b[0m \u001b[0mx\u001b[0m\u001b[0;34m)\u001b[0m\u001b[0;34m:\u001b[0m\u001b[0;34m\u001b[0m\u001b[0;34m\u001b[0m\u001b[0m\n",
      "\u001b[0;32m<__array_function__ internals>\u001b[0m in \u001b[0;36misclose\u001b[0;34m(*args, **kwargs)\u001b[0m\n",
      "\u001b[0;32m/usr/local/lib/python3.6/dist-packages/numpy/core/numeric.py\u001b[0m in \u001b[0;36misclose\u001b[0;34m(a, b, rtol, atol, equal_nan)\u001b[0m\n\u001b[1;32m   2270\u001b[0m     \u001b[0myfin\u001b[0m \u001b[0;34m=\u001b[0m \u001b[0misfinite\u001b[0m\u001b[0;34m(\u001b[0m\u001b[0my\u001b[0m\u001b[0;34m)\u001b[0m\u001b[0;34m\u001b[0m\u001b[0;34m\u001b[0m\u001b[0m\n\u001b[1;32m   2271\u001b[0m     \u001b[0;32mif\u001b[0m \u001b[0mall\u001b[0m\u001b[0;34m(\u001b[0m\u001b[0mxfin\u001b[0m\u001b[0;34m)\u001b[0m \u001b[0;32mand\u001b[0m \u001b[0mall\u001b[0m\u001b[0;34m(\u001b[0m\u001b[0myfin\u001b[0m\u001b[0;34m)\u001b[0m\u001b[0;34m:\u001b[0m\u001b[0;34m\u001b[0m\u001b[0;34m\u001b[0m\u001b[0m\n\u001b[0;32m-> 2272\u001b[0;31m         \u001b[0;32mreturn\u001b[0m \u001b[0mwithin_tol\u001b[0m\u001b[0;34m(\u001b[0m\u001b[0mx\u001b[0m\u001b[0;34m,\u001b[0m \u001b[0my\u001b[0m\u001b[0;34m,\u001b[0m \u001b[0matol\u001b[0m\u001b[0;34m,\u001b[0m \u001b[0mrtol\u001b[0m\u001b[0;34m)\u001b[0m\u001b[0;34m\u001b[0m\u001b[0;34m\u001b[0m\u001b[0m\n\u001b[0m\u001b[1;32m   2273\u001b[0m     \u001b[0;32melse\u001b[0m\u001b[0;34m:\u001b[0m\u001b[0;34m\u001b[0m\u001b[0;34m\u001b[0m\u001b[0m\n\u001b[1;32m   2274\u001b[0m         \u001b[0mfinite\u001b[0m \u001b[0;34m=\u001b[0m \u001b[0mxfin\u001b[0m \u001b[0;34m&\u001b[0m \u001b[0myfin\u001b[0m\u001b[0;34m\u001b[0m\u001b[0;34m\u001b[0m\u001b[0m\n",
      "\u001b[0;32m/usr/local/lib/python3.6/dist-packages/numpy/core/numeric.py\u001b[0m in \u001b[0;36mwithin_tol\u001b[0;34m(x, y, atol, rtol)\u001b[0m\n\u001b[1;32m   2256\u001b[0m     \u001b[0;32mdef\u001b[0m \u001b[0mwithin_tol\u001b[0m\u001b[0;34m(\u001b[0m\u001b[0mx\u001b[0m\u001b[0;34m,\u001b[0m \u001b[0my\u001b[0m\u001b[0;34m,\u001b[0m \u001b[0matol\u001b[0m\u001b[0;34m,\u001b[0m \u001b[0mrtol\u001b[0m\u001b[0;34m)\u001b[0m\u001b[0;34m:\u001b[0m\u001b[0;34m\u001b[0m\u001b[0;34m\u001b[0m\u001b[0m\n\u001b[1;32m   2257\u001b[0m         \u001b[0;32mwith\u001b[0m \u001b[0merrstate\u001b[0m\u001b[0;34m(\u001b[0m\u001b[0minvalid\u001b[0m\u001b[0;34m=\u001b[0m\u001b[0;34m'ignore'\u001b[0m\u001b[0;34m)\u001b[0m\u001b[0;34m:\u001b[0m\u001b[0;34m\u001b[0m\u001b[0;34m\u001b[0m\u001b[0m\n\u001b[0;32m-> 2258\u001b[0;31m             \u001b[0;32mreturn\u001b[0m \u001b[0mless_equal\u001b[0m\u001b[0;34m(\u001b[0m\u001b[0mabs\u001b[0m\u001b[0;34m(\u001b[0m\u001b[0mx\u001b[0m\u001b[0;34m-\u001b[0m\u001b[0my\u001b[0m\u001b[0;34m)\u001b[0m\u001b[0;34m,\u001b[0m \u001b[0matol\u001b[0m \u001b[0;34m+\u001b[0m \u001b[0mrtol\u001b[0m \u001b[0;34m*\u001b[0m \u001b[0mabs\u001b[0m\u001b[0;34m(\u001b[0m\u001b[0my\u001b[0m\u001b[0;34m)\u001b[0m\u001b[0;34m)\u001b[0m\u001b[0;34m\u001b[0m\u001b[0;34m\u001b[0m\u001b[0m\n\u001b[0m\u001b[1;32m   2259\u001b[0m \u001b[0;34m\u001b[0m\u001b[0m\n\u001b[1;32m   2260\u001b[0m     \u001b[0mx\u001b[0m \u001b[0;34m=\u001b[0m \u001b[0masanyarray\u001b[0m\u001b[0;34m(\u001b[0m\u001b[0ma\u001b[0m\u001b[0;34m)\u001b[0m\u001b[0;34m\u001b[0m\u001b[0;34m\u001b[0m\u001b[0m\n",
      "\u001b[0;32m/usr/local/lib/python3.6/dist-packages/numpy/core/_ufunc_config.py\u001b[0m in \u001b[0;36m__exit__\u001b[0;34m(self, *exc_info)\u001b[0m\n\u001b[1;32m    445\u001b[0m \u001b[0;34m\u001b[0m\u001b[0m\n\u001b[1;32m    446\u001b[0m     \u001b[0;32mdef\u001b[0m \u001b[0m__exit__\u001b[0m\u001b[0;34m(\u001b[0m\u001b[0mself\u001b[0m\u001b[0;34m,\u001b[0m \u001b[0;34m*\u001b[0m\u001b[0mexc_info\u001b[0m\u001b[0;34m)\u001b[0m\u001b[0;34m:\u001b[0m\u001b[0;34m\u001b[0m\u001b[0;34m\u001b[0m\u001b[0m\n\u001b[0;32m--> 447\u001b[0;31m         \u001b[0mseterr\u001b[0m\u001b[0;34m(\u001b[0m\u001b[0;34m**\u001b[0m\u001b[0mself\u001b[0m\u001b[0;34m.\u001b[0m\u001b[0moldstate\u001b[0m\u001b[0;34m)\u001b[0m\u001b[0;34m\u001b[0m\u001b[0;34m\u001b[0m\u001b[0m\n\u001b[0m\u001b[1;32m    448\u001b[0m         \u001b[0;32mif\u001b[0m \u001b[0mself\u001b[0m\u001b[0;34m.\u001b[0m\u001b[0mcall\u001b[0m \u001b[0;32mis\u001b[0m \u001b[0;32mnot\u001b[0m \u001b[0m_Unspecified\u001b[0m\u001b[0;34m:\u001b[0m\u001b[0;34m\u001b[0m\u001b[0;34m\u001b[0m\u001b[0m\n\u001b[1;32m    449\u001b[0m             \u001b[0mseterrcall\u001b[0m\u001b[0;34m(\u001b[0m\u001b[0mself\u001b[0m\u001b[0;34m.\u001b[0m\u001b[0moldcall\u001b[0m\u001b[0;34m)\u001b[0m\u001b[0;34m\u001b[0m\u001b[0;34m\u001b[0m\u001b[0m\n",
      "\u001b[0;32m/usr/local/lib/python3.6/dist-packages/numpy/core/_ufunc_config.py\u001b[0m in \u001b[0;36mseterr\u001b[0;34m(all, divide, over, under, invalid)\u001b[0m\n\u001b[1;32m    116\u001b[0m \u001b[0;34m\u001b[0m\u001b[0m\n\u001b[1;32m    117\u001b[0m     \u001b[0mpyvals\u001b[0m \u001b[0;34m=\u001b[0m \u001b[0mumath\u001b[0m\u001b[0;34m.\u001b[0m\u001b[0mgeterrobj\u001b[0m\u001b[0;34m(\u001b[0m\u001b[0;34m)\u001b[0m\u001b[0;34m\u001b[0m\u001b[0;34m\u001b[0m\u001b[0m\n\u001b[0;32m--> 118\u001b[0;31m     \u001b[0mold\u001b[0m \u001b[0;34m=\u001b[0m \u001b[0mgeterr\u001b[0m\u001b[0;34m(\u001b[0m\u001b[0;34m)\u001b[0m\u001b[0;34m\u001b[0m\u001b[0;34m\u001b[0m\u001b[0m\n\u001b[0m\u001b[1;32m    119\u001b[0m \u001b[0;34m\u001b[0m\u001b[0m\n\u001b[1;32m    120\u001b[0m     \u001b[0;32mif\u001b[0m \u001b[0mdivide\u001b[0m \u001b[0;32mis\u001b[0m \u001b[0;32mNone\u001b[0m\u001b[0;34m:\u001b[0m\u001b[0;34m\u001b[0m\u001b[0;34m\u001b[0m\u001b[0m\n",
      "\u001b[0;32m/usr/local/lib/python3.6/dist-packages/numpy/core/_ufunc_config.py\u001b[0m in \u001b[0;36mgeterr\u001b[0;34m()\u001b[0m\n\u001b[1;32m    183\u001b[0m     \u001b[0mval\u001b[0m \u001b[0;34m=\u001b[0m \u001b[0;34m(\u001b[0m\u001b[0mmaskvalue\u001b[0m \u001b[0;34m>>\u001b[0m \u001b[0mSHIFT_UNDERFLOW\u001b[0m\u001b[0;34m)\u001b[0m \u001b[0;34m&\u001b[0m \u001b[0mmask\u001b[0m\u001b[0;34m\u001b[0m\u001b[0;34m\u001b[0m\u001b[0m\n\u001b[1;32m    184\u001b[0m     \u001b[0mres\u001b[0m\u001b[0;34m[\u001b[0m\u001b[0;34m'under'\u001b[0m\u001b[0;34m]\u001b[0m \u001b[0;34m=\u001b[0m \u001b[0m_errdict_rev\u001b[0m\u001b[0;34m[\u001b[0m\u001b[0mval\u001b[0m\u001b[0;34m]\u001b[0m\u001b[0;34m\u001b[0m\u001b[0;34m\u001b[0m\u001b[0m\n\u001b[0;32m--> 185\u001b[0;31m     \u001b[0mval\u001b[0m \u001b[0;34m=\u001b[0m \u001b[0;34m(\u001b[0m\u001b[0mmaskvalue\u001b[0m \u001b[0;34m>>\u001b[0m \u001b[0mSHIFT_INVALID\u001b[0m\u001b[0;34m)\u001b[0m \u001b[0;34m&\u001b[0m \u001b[0mmask\u001b[0m\u001b[0;34m\u001b[0m\u001b[0;34m\u001b[0m\u001b[0m\n\u001b[0m\u001b[1;32m    186\u001b[0m     \u001b[0mres\u001b[0m\u001b[0;34m[\u001b[0m\u001b[0;34m'invalid'\u001b[0m\u001b[0;34m]\u001b[0m \u001b[0;34m=\u001b[0m \u001b[0m_errdict_rev\u001b[0m\u001b[0;34m[\u001b[0m\u001b[0mval\u001b[0m\u001b[0;34m]\u001b[0m\u001b[0;34m\u001b[0m\u001b[0;34m\u001b[0m\u001b[0m\n\u001b[1;32m    187\u001b[0m     \u001b[0;32mreturn\u001b[0m \u001b[0mres\u001b[0m\u001b[0;34m\u001b[0m\u001b[0;34m\u001b[0m\u001b[0m\n",
      "\u001b[0;31mKeyboardInterrupt\u001b[0m: "
     ]
    }
   ],
   "source": [
    "experiment_description = ''\n",
    "\n",
    "filepath = 'Datasets/full_cohort_data.csv'\n",
    "y_label = 'day_28_flg'\n",
    "hot_encode_labels = ['day_icu_intime', 'service_unit']\n",
    "features_to_drop = ['mort_day_censored', 'censor_flg']\n",
    "\n",
    "k_folds = 5\n",
    "\n",
    "model_parameters = {}\n",
    "model_parameters['xgb'] = {}\n",
    "model_parameters['KNN'] = {}\n",
    "model_parameters['MLP'] = {}\n",
    "model_parameters['MLP']['alpha'] = 0.0001\n",
    "model_parameters['MLP']['max_iter'] = 1000\n",
    "\n",
    "model_parameters['feature_selection_level_1'] = {}\n",
    "model_parameters['feature_selection_level_1']['technique'] = 'roc'\n",
    "\n",
    "model_parameters['feature_selection_meta'] = {}\n",
    "model_parameters['feature_selection_meta']['technique'] = 'roc'\n",
    "\n",
    "# X_train, X_test, y_train, y_test = prepare_csv_data(filepath=filepath, y_label=y_label, hot_encode_labels=hot_encode_labels, features_to_drop=features_to_drop)\n",
    "\n",
    "xgb_n_estimators_range = range(100, 102, 200)\n",
    "xgb_max_depth_range = range(3, 4)\n",
    "\n",
    "KNN_n_neighbors_range = range(3, 4)\n",
    "\n",
    "MLP_alpha_range = np.logspace(-4, -2, num=1)\n",
    "\n",
    "num_models = len(xgb_n_estimators_range)*len(xgb_max_depth_range)*len(KNN_n_neighbors_range)*len(MLP_alpha_range)\n",
    "\n",
    "print('Number of models to be generated: ' + str(num_models))\n",
    "# display(xgb_n_estimators_range, xgb_max_depth_range, KNN_n_neighbors_range, MLP_alpha_range)\n",
    "\n",
    "df_columns = ['xgb_n_estimators', 'xgb_max_range', 'KNN_n_neighbors', 'MLP_alpha', 'level_1_feats', 'meta_feats', 'meta_feats_shap', 'roc_no_shap', 'roc_shap', 'acc_no_shap', 'acc_shap']\n",
    "\n",
    "now = datetime.now()\n",
    "\n",
    "output_filename = 'parameter_experiment_results/' + now.strftime(\"%y%m%d_%H%M%S\") + '.csv'\n",
    "\n",
    "print('Output filename: ' + output_filename)\n",
    "\n",
    "output_df = pd.DataFrame(columns=df_columns)\n",
    "\n",
    "with open('parameter_experiment_results/parameter_experiment_log.txt', 'a') as log_file:\n",
    "    log_file.write('{:=^40}\\n'.format(now.strftime(\"%y%m%d_%H%M%S\")))\n",
    "    log_file.write('Description: {}'.format(experiment_description))\n",
    "    log_file.write('Output file: {}\\n'.format(output_filename))\n",
    "    log_file.write('Level 1 feature selection: {}\\n'.format(model_parameters['feature_selection_level_1']['technique']))\n",
    "    log_file.write('Meta classifier feature selection: {}\\n'.format(model_parameters['feature_selection_meta']['technique']))\n",
    "    log_file.write('Dropped features: {}\\n'.format(features_to_drop))\n",
    "    log_file.write('Number of models trained: {}\\n'.format(num_models))\n",
    "    log_file.write('xgb_n_estimators_range: {}\\n'.format(xgb_n_estimators_range))\n",
    "    log_file.write('xgb_max_depth_range: {}\\n'.format(xgb_max_depth_range))\n",
    "    log_file.write('KNN_n_neighbors_range: {}\\n'.format(KNN_n_neighbors_range))\n",
    "    log_file.write('MLP_alpha_range: {}\\n'.format(MLP_alpha_range))\n",
    "    log_file.write('\\n\\n')\n",
    "\n",
    "with open(output_filename, \"w\") as csv_file:\n",
    "    csv_file.write('xgb_n_estimators,xgb_max_range, KNN_n_neighbors, MLP_alpha, level_1_feats, meta_feats, meta_feats_shap, roc_no_shap, roc_shap, acc_no_shap, acc_shap\\n')\n",
    "    for xgb_n_estimators in xgb_n_estimators_range:\n",
    "        model_parameters['xgb']['n_estimators'] = xgb_n_estimators\n",
    "        for xgb_max_depth in xgb_max_depth_range:\n",
    "            model_parameters['xgb']['max_depth'] = xgb_max_depth\n",
    "            for KNN_n_neighbors in KNN_n_neighbors_range:\n",
    "                model_parameters['KNN']['n_neighbors'] = KNN_n_neighbors\n",
    "                for MLP_alpha in MLP_alpha_range:\n",
    "                    for k in range(0, k_folds):\n",
    "                        X_train, X_test, y_train, y_test = prepare_csv_data(filepath=filepath, y_label=y_label, hot_encode_labels=hot_encode_labels, features_to_drop=features_to_drop)\n",
    "                        model_parameters['MLP']['alpha'] = MLP_alpha\n",
    "                        stacked_model = train_stacked_model_full(model_parameters, X_train, y_train)\n",
    "                        roc_no_shap, roc_shap, acc_no_shap, acc_shap = test_stacked_model_full(model_parameters, stacked_model, X_test, y_test)\n",
    "                        new_row = {\n",
    "                            'xgb_n_estimators': model_parameters['xgb']['n_estimators'],\n",
    "                            'xgb_max_range': model_parameters['xgb']['max_depth'],\n",
    "                            'KNN_n_neighbors': model_parameters['KNN']['n_neighbors'],\n",
    "                            'MLP_alpha': model_parameters['MLP']['alpha'],\n",
    "                            'level_1_feats': [stacked_model['level_1_features']],\n",
    "                            'meta_feats': [stacked_model['meta_features']],\n",
    "                            'meta_feats_shap': [stacked_model['meta_shap_features']],\n",
    "                            'roc_no_shap': roc_no_shap,\n",
    "                            'roc_shap': roc_shap,\n",
    "                            'acc_no_shap': acc_no_shap,\n",
    "                            'acc_shap': acc_shap,\n",
    "                        }\n",
    "                        df_row = pd.DataFrame.from_dict(new_row)\n",
    "                        csv_row = df_row.to_csv(index=False, header=False)\n",
    "                        csv_file.write(csv_row)\n",
    "                        output_df = output_df.append(new_row, ignore_index=True)\n"
   ]
  },
  {
   "cell_type": "code",
   "execution_count": 2,
   "metadata": {},
   "outputs": [
    {
     "data": {
      "text/plain": [
       "2"
      ]
     },
     "execution_count": 2,
     "metadata": {},
     "output_type": "execute_result"
    }
   ],
   "source": [
    "len(range(0, 2))"
   ]
  },
  {
   "cell_type": "code",
   "execution_count": 47,
   "metadata": {},
   "outputs": [
    {
     "data": {
      "text/html": [
       "<div>\n",
       "<style scoped>\n",
       "    .dataframe tbody tr th:only-of-type {\n",
       "        vertical-align: middle;\n",
       "    }\n",
       "\n",
       "    .dataframe tbody tr th {\n",
       "        vertical-align: top;\n",
       "    }\n",
       "\n",
       "    .dataframe thead th {\n",
       "        text-align: right;\n",
       "    }\n",
       "</style>\n",
       "<table border=\"1\" class=\"dataframe\">\n",
       "  <thead>\n",
       "    <tr style=\"text-align: right;\">\n",
       "      <th></th>\n",
       "      <th>xgb_n_estimators</th>\n",
       "      <th>xgb_max_range</th>\n",
       "      <th>KNN_n_neighbors</th>\n",
       "      <th>MLP_alpha</th>\n",
       "      <th>level_1_feats</th>\n",
       "      <th>meta_feats</th>\n",
       "      <th>meta_feats_shap</th>\n",
       "      <th>roc_no_shap</th>\n",
       "      <th>roc_shap</th>\n",
       "      <th>acc_no_shap</th>\n",
       "      <th>acc_shap</th>\n",
       "    </tr>\n",
       "  </thead>\n",
       "  <tbody>\n",
       "    <tr>\n",
       "      <th>0</th>\n",
       "      <td>100</td>\n",
       "      <td>3</td>\n",
       "      <td>3</td>\n",
       "      <td>0.0001</td>\n",
       "      <td>[hosp_exp_flg, icu_exp_flg, stroke_flg, resp_f...</td>\n",
       "      <td>[xgb_proba, icu_exp_flg, KNN_proba, KNN_predic...</td>\n",
       "      <td>[xgb_proba, icu_exp_flg_MLP_shap, hosp_exp_flg...</td>\n",
       "      <td>0.918212</td>\n",
       "      <td>0.931068</td>\n",
       "      <td>0.977273</td>\n",
       "      <td>0.974432</td>\n",
       "    </tr>\n",
       "  </tbody>\n",
       "</table>\n",
       "</div>"
      ],
      "text/plain": [
       "   xgb_n_estimators  xgb_max_range  KNN_n_neighbors  MLP_alpha  \\\n",
       "0               100              3                3     0.0001   \n",
       "\n",
       "                                       level_1_feats  \\\n",
       "0  [hosp_exp_flg, icu_exp_flg, stroke_flg, resp_f...   \n",
       "\n",
       "                                          meta_feats  \\\n",
       "0  [xgb_proba, icu_exp_flg, KNN_proba, KNN_predic...   \n",
       "\n",
       "                                     meta_feats_shap  roc_no_shap  roc_shap  \\\n",
       "0  [xgb_proba, icu_exp_flg_MLP_shap, hosp_exp_flg...     0.918212  0.931068   \n",
       "\n",
       "   acc_no_shap  acc_shap  \n",
       "0     0.977273  0.974432  "
      ]
     },
     "metadata": {},
     "output_type": "display_data"
    },
    {
     "data": {
      "text/plain": [
       "'100,3,3,0.0001,\"[\\'hosp_exp_flg\\', \\'icu_exp_flg\\', \\'stroke_flg\\', \\'resp_flg\\', \\'afib_flg\\', \\'age\\', \\'bun_first\\', \\'sapsi_first\\']\",\"[\\'xgb_proba\\', \\'icu_exp_flg\\', \\'KNN_proba\\', \\'KNN_predict\\', \\'stroke_flg\\', \\'resp_flg\\', \\'afib_flg\\', \\'age\\', \\'bun_first\\', \\'sapsi_first\\']\",\"[\\'xgb_proba\\', \\'icu_exp_flg_MLP_shap\\', \\'hosp_exp_flg_KNN_shap\\', \\'age_MLP_shap\\', \\'KNN_proba\\', \\'KNN_predict\\', \\'icu_exp_flg_KNN_shap\\', \\'age_KNN_shap\\', \\'bun_first_KNN_shap\\', \\'sapsi_first_KNN_shap\\', \\'stroke_flg\\', \\'resp_flg\\', \\'age_xgb_shap\\', \\'afib_flg\\', \\'age\\', \\'stroke_flg_MLP_shap\\', \\'bun_first\\', \\'sapsi_first\\', \\'bun_first_xgb_shap\\']\",0.9182124273033364,0.9310682583409855,0.9772727272727273,0.9744318181818182\\n'"
      ]
     },
     "execution_count": 47,
     "metadata": {},
     "output_type": "execute_result"
    }
   ],
   "source": [
    "new_row = {\n",
    "                        'xgb_n_estimators': model_parameters['xgb']['n_estimators'],\n",
    "                        'xgb_max_range': model_parameters['xgb']['max_depth'],\n",
    "                        'KNN_n_neighbors': model_parameters['KNN']['n_neighbors'],\n",
    "                        'MLP_alpha': model_parameters['MLP']['alpha'],\n",
    "                        'level_1_feats': [stacked_model['level_1_features']],\n",
    "                        'meta_feats': [stacked_model['meta_features']],\n",
    "                        'meta_feats_shap': [stacked_model['meta_shap_features']],\n",
    "                        'roc_no_shap': roc_no_shap,\n",
    "                        'roc_shap': roc_shap,\n",
    "                        'acc_no_shap': acc_no_shap,\n",
    "                        'acc_shap': acc_shap,\n",
    "                    }\n",
    "df_row = pd.DataFrame.from_dict(new_row)\n",
    "display(df_row)\n",
    "df_row.to_csv(index=False, header=False)"
   ]
  },
  {
   "cell_type": "markdown",
   "metadata": {},
   "source": [
    "# Evaluate Results"
   ]
  },
  {
   "cell_type": "code",
   "execution_count": 10,
   "metadata": {},
   "outputs": [
    {
     "data": {
      "text/plain": [
       "Index(['xgb_n_estimators', ' xgb_max_range', ' KNN_n_neighbors', ' MLP_alpha',\n",
       "       ' level_1_feats', ' meta_feats', ' meta_feats_shap', ' roc_no_shap',\n",
       "       ' roc_shap', ' acc_no_shap', ' acc_shap'],\n",
       "      dtype='object')"
      ]
     },
     "metadata": {},
     "output_type": "display_data"
    },
    {
     "name": "stdout",
     "output_type": "stream",
     "text": [
      "Average roc w/o SHAP:  0.9294408733802673\n",
      "Average roc w/ SHAP:  0.9348765432098766\n",
      "=================================================================\n",
      "Biggest improvement:  0.023813896541169166\n",
      "Index: (array([21]),)\n"
     ]
    },
    {
     "data": {
      "text/plain": [
       "'Level 1 Features: '"
      ]
     },
     "metadata": {},
     "output_type": "display_data"
    },
    {
     "data": {
      "text/plain": [
       "array([\"['hosp_exp_flg', 'icu_exp_flg', 'stroke_flg', 'resp_flg', 'afib_flg', 'age', 'bun_first', 'sapsi_first']\"],\n",
       "      dtype=object)"
      ]
     },
     "metadata": {},
     "output_type": "display_data"
    },
    {
     "data": {
      "text/plain": [
       "'Meta feats: '"
      ]
     },
     "metadata": {},
     "output_type": "display_data"
    },
    {
     "data": {
      "text/plain": [
       "array([\"['xgb_proba', 'KNN_proba', 'icu_exp_flg', 'KNN_predict', 'stroke_flg', 'resp_flg', 'afib_flg', 'age', 'bun_first', 'sapsi_first']\"],\n",
       "      dtype=object)"
      ]
     },
     "metadata": {},
     "output_type": "display_data"
    },
    {
     "data": {
      "text/plain": [
       "'Meta shap feats: '"
      ]
     },
     "metadata": {},
     "output_type": "display_data"
    },
    {
     "data": {
      "text/plain": [
       "array([\"['xgb_proba', 'KNN_proba', 'icu_exp_flg_MLP_shap', 'hosp_exp_flg_KNN_shap', 'age_MLP_shap', 'bun_first_KNN_shap', 'age_KNN_shap', 'KNN_predict', 'sapsi_first_KNN_shap', 'icu_exp_flg_KNN_shap', 'stroke_flg', 'stroke_flg_KNN_shap', 'resp_flg', 'age_xgb_shap', 'afib_flg', 'age', 'bun_first_MLP_shap', 'resp_flg_KNN_shap', 'bun_first', 'sapsi_first', 'bun_first_xgb_shap']\"],\n",
       "      dtype=object)"
      ]
     },
     "metadata": {},
     "output_type": "display_data"
    }
   ],
   "source": [
    "filepath = 'parameter_results_210917_213014.csv'\n",
    "\n",
    "np.set_printoptions(threshold=np.inf)\n",
    "\n",
    "df = pd.read_csv(filepath)\n",
    "\n",
    "display(df.columns)\n",
    "\n",
    "print('Average roc w/o SHAP: ', str(df[' roc_no_shap'].mean()))\n",
    "print('Average roc w/ SHAP: ', str(df[' roc_shap'].mean()))\n",
    "\n",
    "\n",
    "print('=================================================================')\n",
    "biggest_improvement = max(df[' roc_shap'] - df[' roc_no_shap'])\n",
    "print('Biggest improvement: ', str(biggest_improvement))\n",
    "biggest_improvement_index = np.where((df[' roc_shap'] - df[' roc_no_shap']) == biggest_improvement)\n",
    "print('Index: ' + str(biggest_improvement_index))\n",
    "display('Level 1 Features: ', np.array(df[' level_1_feats'].iloc[biggest_improvement_index]))\n",
    "display('Meta feats: ', np.array(df[' meta_feats'].iloc[biggest_improvement_index]))\n",
    "display('Meta shap feats: ', np.array(df[' meta_feats_shap'].iloc[biggest_improvement_index]))\n",
    "\n",
    "# print('Average improvement: ', str(stats.mean(df[' roc_shap'][df[' roc_shap'] > df[' roc_no_shap']] - df[' roc_no_shap'][df[' roc_shap'] > df[' roc_no_shap']])))\n",
    "\n",
    "# print('Biggest impairment: ', str(max(df[' roc_no_shap'] - df[' roc_shap'])))\n",
    "\n",
    "# print('Average impairment: ', str(stats.mean(- df[' roc_shap'][df[' roc_shap'] < df[' roc_no_shap']] + df[' roc_no_shap'][df[' roc_shap'] < df[' roc_no_shap']])))\n"
   ]
  },
  {
   "cell_type": "code",
   "execution_count": 67,
   "metadata": {},
   "outputs": [
    {
     "data": {
      "text/plain": [
       "'Dropped: '"
      ]
     },
     "metadata": {},
     "output_type": "display_data"
    },
    {
     "data": {
      "text/plain": [
       "['mort_day_censored', 'censor_flg', 'age', 'icu_exp_flg']"
      ]
     },
     "metadata": {},
     "output_type": "display_data"
    },
    {
     "name": "stdout",
     "output_type": "stream",
     "text": [
      "once\n",
      "once\n",
      "Original # of features:  49\n"
     ]
    },
    {
     "name": "stderr",
     "output_type": "stream",
     "text": [
      "ntree_limit is deprecated, use `iteration_range` or model slicing instead.\n"
     ]
    },
    {
     "data": {
      "text/plain": [
       "'Generated SHAP values for model type: xgb'"
      ]
     },
     "metadata": {},
     "output_type": "display_data"
    },
    {
     "name": "stderr",
     "output_type": "stream",
     "text": [
      "Using 712 background data samples could cause slower run times. Consider using shap.sample(data, K) or shap.kmeans(data, K) to summarize the background as K samples.\n"
     ]
    },
    {
     "name": "stdout",
     "output_type": "stream",
     "text": [
      "Original # of features:  57\n"
     ]
    },
    {
     "data": {
      "application/vnd.jupyter.widget-view+json": {
       "model_id": "82dcf3c4f2e44c9194d5936a99aad8bd",
       "version_major": 2,
       "version_minor": 0
      },
      "text/plain": [
       "HBox(children=(FloatProgress(value=0.0, max=712.0), HTML(value='')))"
      ]
     },
     "metadata": {},
     "output_type": "display_data"
    },
    {
     "name": "stdout",
     "output_type": "stream",
     "text": [
      "\n"
     ]
    },
    {
     "data": {
      "text/plain": [
       "'Generated SHAP values for model type: KNN'"
      ]
     },
     "metadata": {},
     "output_type": "display_data"
    },
    {
     "name": "stderr",
     "output_type": "stream",
     "text": [
      "Using 712 background data samples could cause slower run times. Consider using shap.sample(data, K) or shap.kmeans(data, K) to summarize the background as K samples.\n"
     ]
    },
    {
     "name": "stdout",
     "output_type": "stream",
     "text": [
      "Original # of features:  65\n"
     ]
    },
    {
     "data": {
      "application/vnd.jupyter.widget-view+json": {
       "model_id": "a24d564402954be7bfff707ef4595304",
       "version_major": 2,
       "version_minor": 0
      },
      "text/plain": [
       "HBox(children=(FloatProgress(value=0.0, max=712.0), HTML(value='')))"
      ]
     },
     "metadata": {},
     "output_type": "display_data"
    },
    {
     "name": "stdout",
     "output_type": "stream",
     "text": [
      "\n"
     ]
    },
    {
     "data": {
      "text/plain": [
       "'Generated SHAP values for model type: MLP'"
      ]
     },
     "metadata": {},
     "output_type": "display_data"
    },
    {
     "data": {
      "text/plain": [
       "'Meta features: '"
      ]
     },
     "metadata": {},
     "output_type": "display_data"
    },
    {
     "data": {
      "text/plain": [
       "['xgb_proba',\n",
       " 'KNN_proba',\n",
       " 'KNN_predict',\n",
       " 'stroke_flg',\n",
       " 'resp_flg',\n",
       " 'afib_flg',\n",
       " 'bun_first',\n",
       " 'sapsi_first']"
      ]
     },
     "metadata": {},
     "output_type": "display_data"
    },
    {
     "data": {
      "text/plain": [
       "'Meta_shap features: '"
      ]
     },
     "metadata": {},
     "output_type": "display_data"
    },
    {
     "data": {
      "text/plain": [
       "['xgb_proba',\n",
       " 'KNN_proba',\n",
       " 'KNN_predict',\n",
       " 'sapsi_first_KNN_shap',\n",
       " 'bun_first_KNN_shap',\n",
       " 'bun_first_MLP_shap',\n",
       " 'sapsi_first_xgb_shap',\n",
       " 'sapsi_first_MLP_shap',\n",
       " 'stroke_flg',\n",
       " 'afib_flg_xgb_shap',\n",
       " 'stroke_flg_KNN_shap',\n",
       " 'resp_flg',\n",
       " 'bun_first_xgb_shap',\n",
       " 'afib_flg_KNN_shap',\n",
       " 'resp_flg_KNN_shap',\n",
       " 'bun_first',\n",
       " 'sapsi_first']"
      ]
     },
     "metadata": {},
     "output_type": "display_data"
    },
    {
     "name": "stdout",
     "output_type": "stream",
     "text": [
      "Original # of features:  49\n"
     ]
    },
    {
     "name": "stderr",
     "output_type": "stream",
     "text": [
      "ntree_limit is deprecated, use `iteration_range` or model slicing instead.\n"
     ]
    },
    {
     "data": {
      "text/plain": [
       "'Generated SHAP values for model type: xgb'"
      ]
     },
     "metadata": {},
     "output_type": "display_data"
    },
    {
     "name": "stderr",
     "output_type": "stream",
     "text": [
      "Using 352 background data samples could cause slower run times. Consider using shap.sample(data, K) or shap.kmeans(data, K) to summarize the background as K samples.\n"
     ]
    },
    {
     "name": "stdout",
     "output_type": "stream",
     "text": [
      "Original # of features:  57\n"
     ]
    },
    {
     "data": {
      "application/vnd.jupyter.widget-view+json": {
       "model_id": "0c685f2c48fa4800b6bfed84e4486b4d",
       "version_major": 2,
       "version_minor": 0
      },
      "text/plain": [
       "HBox(children=(FloatProgress(value=0.0, max=352.0), HTML(value='')))"
      ]
     },
     "metadata": {},
     "output_type": "display_data"
    },
    {
     "name": "stdout",
     "output_type": "stream",
     "text": [
      "\n"
     ]
    },
    {
     "data": {
      "text/plain": [
       "'Generated SHAP values for model type: KNN'"
      ]
     },
     "metadata": {},
     "output_type": "display_data"
    },
    {
     "name": "stderr",
     "output_type": "stream",
     "text": [
      "Using 352 background data samples could cause slower run times. Consider using shap.sample(data, K) or shap.kmeans(data, K) to summarize the background as K samples.\n"
     ]
    },
    {
     "name": "stdout",
     "output_type": "stream",
     "text": [
      "Original # of features:  65\n"
     ]
    },
    {
     "data": {
      "application/vnd.jupyter.widget-view+json": {
       "model_id": "04325dbd3a384d23afe90ba6e19b0fcd",
       "version_major": 2,
       "version_minor": 0
      },
      "text/plain": [
       "HBox(children=(FloatProgress(value=0.0, max=352.0), HTML(value='')))"
      ]
     },
     "metadata": {},
     "output_type": "display_data"
    },
    {
     "name": "stdout",
     "output_type": "stream",
     "text": [
      "\n"
     ]
    },
    {
     "data": {
      "text/plain": [
       "'Generated SHAP values for model type: MLP'"
      ]
     },
     "metadata": {},
     "output_type": "display_data"
    },
    {
     "name": "stdout",
     "output_type": "stream",
     "text": [
      "# of features W/O SHAP:  8\n",
      "# of features W/ SHAP:  17\n"
     ]
    },
    {
     "data": {
      "text/plain": [
       "'Accuracy W/O SHAP: '"
      ]
     },
     "metadata": {},
     "output_type": "display_data"
    },
    {
     "data": {
      "text/plain": [
       "0.9801136363636364"
      ]
     },
     "metadata": {},
     "output_type": "display_data"
    },
    {
     "data": {
      "text/plain": [
       "'Accuracy W/ SHAP: '"
      ]
     },
     "metadata": {},
     "output_type": "display_data"
    },
    {
     "data": {
      "text/plain": [
       "0.9801136363636364"
      ]
     },
     "metadata": {},
     "output_type": "display_data"
    },
    {
     "name": "stdout",
     "output_type": "stream",
     "text": [
      "ROC W/O SHAP:  0.9250994796449344\n",
      "ROC W/ SHAP:  0.928221610039792\n"
     ]
    }
   ],
   "source": [
    "# Dataset 1 link: https://physionet.org/content/mimic2-iaccd/1.0/\n",
    "filepath = 'Datasets/full_cohort_data.csv'\n",
    "y_label = 'day_28_flg'\n",
    "hot_encode_labels = ['day_icu_intime', 'service_unit']\n",
    "features_to_drop = ['mort_day_censored', 'censor_flg', 'age', 'icu_exp_flg']\n",
    "\n",
    "feature_selection_technique_level_1 = 'roc'\n",
    "\n",
    "feature_selection_technique_meta = 'roc'\n",
    "\n",
    "X_train, X_test, y_train, y_test = prepare_csv_data(filepath=filepath, y_label=y_label, hot_encode_labels=hot_encode_labels, features_to_drop=features_to_drop)\n",
    "\n",
    "original_features = X_train.copy().columns\n",
    "\n",
    "\n",
    "\n",
    "stacked_model = {}\n",
    "\n",
    "stacked_model, level_1_features = train_level_1(stacked_model, X_train, y_train, feature_selection_technique_level_1)\n",
    "\n",
    "X_train = add_shap_pred_proba_to_level_1(stacked_model, X_train, y_train, level_1_features)\n",
    "\n",
    "stacked_model, shap_columns, meta_features, meta_shap_features = train_meta_model(stacked_model, X_train, y_train, level_1_features, feature_selection_technique_meta)\n",
    "\n",
    "test_stacked_model(stacked_model, X_test, y_test, level_1_features, shap_columns, meta_features, meta_shap_features)"
   ]
  },
  {
   "cell_type": "code",
   "execution_count": 71,
   "metadata": {},
   "outputs": [
    {
     "data": {
      "text/plain": [
       "{'xgb': {'n_estimators': 5, 'max_depth': 5}}"
      ]
     },
     "execution_count": 71,
     "metadata": {},
     "output_type": "execute_result"
    }
   ],
   "source": [
    "model_parameters = {}\n",
    "\n",
    "model_parameters['xgb'] = {}\n",
    "model_parameters['xgb']['n_estimators'] = 5\n",
    "model_parameters['xgb']['max_depth'] = 5\n",
    "\n",
    "model_parameters"
   ]
  },
  {
   "cell_type": "code",
   "execution_count": 59,
   "metadata": {},
   "outputs": [
    {
     "name": "stdout",
     "output_type": "stream",
     "text": [
      "[ 0.07694517  0.01711415 -0.01179781  0.00359471  0.00716119  0.0178831 ]\n",
      "0.11090051091309482\n",
      "KNN | -1.075632022471912 | 0.0\n",
      "MLP | -0.0747422169461331 | 0.02043877955681463\n",
      "xgb | -1.0872303512878716 | 0.03975984454154968\n",
      "rf | -0.27081087197128656 | 0.04724555650263552\n"
     ]
    },
    {
     "data": {
      "text/plain": [
       "-0.11090051091309483"
      ]
     },
     "execution_count": 59,
     "metadata": {},
     "output_type": "execute_result"
    }
   ],
   "source": [
    "total = 0\n",
    "\n",
    "loc = 0\n",
    "\n",
    "proba = stacked_model['rf'].predict_proba(X_train[level_1_features])[:, 0]\n",
    "\n",
    "explainer = shap.TreeExplainer(stacked_model['rf'])\n",
    "shap_values = explainer.shap_values(X_train[level_1_features])\n",
    "print(shap_values[0][loc])\n",
    "print(sum(shap_values[0][loc]))\n",
    "\n",
    "\n",
    "for model in stacked_model.keys() - ['meta', 'meta_shap']:\n",
    "    for feat in level_1_features:\n",
    "#         print(X_train[feat + '_' + model + '_shap'].iloc[loc])\n",
    "        total += X_train[feat + '_' + model + '_shap'].iloc[loc]*X_train[feat].iloc[loc]\n",
    "    print(model + ' | ' + str(total) + ' | ' + str(X_train[model + '_proba'].iloc[loc]))\n",
    "    total = 0\n",
    "    \n",
    "explainer.expected_value[0] - proba[loc]"
   ]
  },
  {
   "cell_type": "markdown",
   "metadata": {},
   "source": [
    "# LOAD IN DATA"
   ]
  },
  {
   "cell_type": "code",
   "execution_count": 86,
   "metadata": {},
   "outputs": [
    {
     "name": "stdout",
     "output_type": "stream",
     "text": [
      "157\n",
      "['rf_proba', 'icu_exp_flg_rf_shap', 'hospital_los_day_xgb_shap', 'icu_los_day_xgb_shap', 'bun_first_rf_shap', 'bun_first_xgb_shap', 'stroke_flg_rf_shap', 'platelet_first_xgb_shap', 'age_rf_shap', 'hospital_los_day_rf_shap', 'pco2_first_xgb_shap', 'afib_flg_rf_shap', 'platelet_first_rf_shap', 'resp_flg', 'afib_flg', 'sapsi_first_rf_shap', 'sodium_first_rf_shap', 'icu_los_day_rf_shap', 'weight_first_rf_shap', 'creatinine_first_xgb_shap', 'wbc_first_rf_shap', 'creatinine_first_rf_shap', 'potassium_first_rf_shap', 'liver_flg_rf_shap', 'age', 'hr_1st_rf_shap', 'chloride_first_rf_shap', 'resp_flg_rf_shap', 'hgb_first_rf_shap', 'iv_day_1_rf_shap', 'hour_icu_intime_rf_shap', 'mal_flg_rf_shap', 'service_num_rf_shap', 'age_xgb_shap', 'day_icu_intime_3_rf_shap', 'bmi_rf_shap', 'map_1st_rf_shap', 'abg_count_rf_shap', 'bun_first', 'sapsi_first', 'copd_flg_rf_shap', 'po2_first_rf_shap', 'temp_1st_rf_shap', 'spo2_1st_rf_shap', 'day_icu_intime_6_rf_shap']\n",
      "51\n",
      "['rf_proba', 'icu_exp_flg', 'stroke_flg', 'resp_flg', 'afib_flg', 'age', 'bun_first', 'sapsi_first']\n"
     ]
    }
   ],
   "source": [
    "print(len(X_train.columns))\n",
    "features_ini = feature_selection_fun_correlation_with_roc_sorting(X=X_train, y=y_train, correlation_treshold=0.9)\n",
    "final_feat = feature_selection_fun_roc_based(X=X_train[features_ini], y=y_train, roc_treshold=0.6, pr_treshold=0.15)\n",
    "print(final_feat)\n",
    "\n",
    "print(len(X_train[original_features].columns))\n",
    "features_ini = feature_selection_fun_correlation_with_roc_sorting(X=X_train.drop(columns=shap_columns), y=y_train, correlation_treshold=0.9)\n",
    "final_feat = feature_selection_fun_roc_based(X=X_train[features_ini], y=y_train, roc_treshold=0.6, pr_treshold=0.15)\n",
    "print(final_feat)"
   ]
  },
  {
   "cell_type": "markdown",
   "metadata": {},
   "source": [
    "# TRAIN STACKED MODELS"
   ]
  },
  {
   "cell_type": "code",
   "execution_count": 21,
   "metadata": {},
   "outputs": [
    {
     "name": "stdout",
     "output_type": "stream",
     "text": [
      "Original # of features:  34\n",
      "Computing SHAP values for first layer...\n",
      "Generated explainer...\n",
      "New # of features:  64\n",
      "Original # of features:  34\n",
      "Computing SHAP values for first layer...\n",
      "Generated explainer...\n",
      "\n"
     ]
    },
    {
     "name": "stderr",
     "output_type": "stream",
     "text": [
      "ntree_limit is deprecated, use `iteration_range` or model slicing instead.\n"
     ]
    },
    {
     "name": "stdout",
     "output_type": "stream",
     "text": [
      "New # of features:  64\n",
      "Original # of features:  34\n",
      "Computing SHAP values for first layer...\n",
      "Generated explainer...\n",
      "New # of features:  64\n",
      "Original # of features:  34\n",
      "Computing SHAP values for first layer...\n",
      "Generated explainer...\n",
      "\n",
      "New # of features:  64\n"
     ]
    },
    {
     "name": "stderr",
     "output_type": "stream",
     "text": [
      "lbfgs failed to converge (status=1):\n",
      "STOP: TOTAL NO. of ITERATIONS REACHED LIMIT.\n",
      "\n",
      "Increase the number of iterations (max_iter) or scale the data as shown in:\n",
      "    https://scikit-learn.org/stable/modules/preprocessing.html\n",
      "Please also refer to the documentation for alternative solver options:\n",
      "    https://scikit-learn.org/stable/modules/linear_model.html#logistic-regression\n"
     ]
    },
    {
     "data": {
      "text/plain": [
       "0.9787234042553191"
      ]
     },
     "metadata": {},
     "output_type": "display_data"
    },
    {
     "data": {
      "text/plain": [
       "0.9787234042553191"
      ]
     },
     "metadata": {},
     "output_type": "display_data"
    }
   ],
   "source": [
    "if use_breast_cancer:\n",
    "    breast_cancer = {}\n",
    "    breast_cancer['xgb'] = XGBClassifier(use_label_encoder=False, eval_metric='logloss', n_estimators=10, max_depth=5).fit(breast_cancer_X_train[breast_cancer_features], breast_cancer_y_train)\n",
    "    breast_cancer['rf'] = RandomForestClassifier(n_estimators=10).fit(breast_cancer_X_train[breast_cancer_features], breast_cancer_y_train)\n",
    "    \n",
    "    breast_cancer_X_train = breast_cancer_X_train.assign(predict_xgb=breast_cancer['xgb'].predict(breast_cancer_X_train[breast_cancer_features])).copy()\n",
    "    breast_cancer_X_train = breast_cancer_X_train.assign(proba_xgb=[prob[1] for prob in breast_cancer['xgb'].predict_proba(breast_cancer_X_train[breast_cancer_features])]).copy()\n",
    "    breast_cancer_X_train = breast_cancer_X_train.assign(predict_rf=breast_cancer['rf'].predict(breast_cancer_X_train[breast_cancer_features])).copy()\n",
    "    breast_cancer_X_train = breast_cancer_X_train.assign(proba_rf=[prob[1] for prob in breast_cancer['rf'].predict_proba(breast_cancer_X_train[breast_cancer_features])]).copy()\n",
    "    \n",
    "    breast_cancer_X_test = breast_cancer_X_test.assign(predict_xgb=breast_cancer['xgb'].predict(breast_cancer_X_test[breast_cancer_features])).copy()\n",
    "    breast_cancer_X_test = breast_cancer_X_test.assign(proba_xgb=[prob[1] for prob in breast_cancer['xgb'].predict_proba(breast_cancer_X_test[breast_cancer_features])]).copy()\n",
    "    breast_cancer_X_test = breast_cancer_X_test.assign(predict_rf=breast_cancer['rf'].predict(breast_cancer_X_test[breast_cancer_features])).copy()\n",
    "    breast_cancer_X_test = breast_cancer_X_test.assign(proba_rf=[prob[1] for prob in breast_cancer['rf'].predict_proba(breast_cancer_X_test[breast_cancer_features])]).copy()\n",
    "    \n",
    "#     display(breast_cancer_X_train)\n",
    "    \n",
    "    breast_cancer_X_train_shap = breast_cancer_X_train.copy()\n",
    "    breast_cancer_X_train_shap = add_shap_to_df(model=breast_cancer['xgb'], model_type='xgb', df=breast_cancer_X_train.copy(), X_train=breast_cancer_X_train.copy(), index_shap=False, all_features=False, features=breast_cancer_features).copy()\n",
    "    breast_cancer_X_train_shap = add_shap_to_df(model=breast_cancer['rf'], model_type='rf', df=breast_cancer_X_train.copy(), X_train=breast_cancer_X_train.copy(), index_shap=True, all_features=False, features=breast_cancer_features).copy()\n",
    "    \n",
    "    breast_cancer_X_test_shap = breast_cancer_X_test.copy()\n",
    "    breast_cancer_X_test_shap = add_shap_to_df(model=breast_cancer['xgb'], model_type='xgb', df=breast_cancer_X_test.copy(), X_train=breast_cancer_X_train.copy(), index_shap=False, all_features=False, features=breast_cancer_features).copy()\n",
    "    breast_cancer_X_test_shap = add_shap_to_df(model=breast_cancer['rf'], model_type='rf', df=breast_cancer_X_test.copy(), X_train=breast_cancer_X_train.copy(), index_shap=True, all_features=False, features=breast_cancer_features).copy()\n",
    "    \n",
    "#     display(breast_cancer_X_train_shap)\n",
    "    \n",
    "    breast_cancer['meta'] = LogisticRegression(max_iter=800).fit(breast_cancer_X_train, breast_cancer_y_train)\n",
    "    breast_cancer['meta_shap'] = LogisticRegression(max_iter=800).fit(breast_cancer_X_train_shap, breast_cancer_y_train)\n",
    "    \n",
    "    display(breast_cancer['meta'].score(breast_cancer_X_test, breast_cancer_y_test))\n",
    "    display(breast_cancer['meta_shap'].score(breast_cancer_X_test_shap, breast_cancer_y_test))\n",
    "    \n",
    "    \n",
    "#     breast_cancer_meta = breast_cancer_meta.fit(breast_cancer_X_train, breast_cancer_y_train)\n",
    "#     display(breast_cancer_meta.score(breast_cancer_X_test, breast_cancer_y_test))\n",
    "#     breat_cancer_meta_shap"
   ]
  },
  {
   "cell_type": "markdown",
   "metadata": {},
   "source": [
    "# VALIDATE AGAINST SHAPLEY BOOSTED"
   ]
  },
  {
   "cell_type": "code",
   "execution_count": 5,
   "metadata": {},
   "outputs": [
    {
     "name": "stdout",
     "output_type": "stream",
     "text": [
      "No shap:  0.9925373134328358\n",
      "With shap:  0.9925373134328358\n"
     ]
    }
   ],
   "source": [
    "if use_breast_cancer:\n",
    "    print('No shap: ', roc_auc_score(breast_cancer_y_test, breast_cancer['meta'].predict(breast_cancer_X_test)))\n",
    "    print('With shap: ', roc_auc_score(breast_cancer_y_test, breast_cancer['meta_shap'].predict(breast_cancer_X_test_shap)))"
   ]
  },
  {
   "cell_type": "code",
   "execution_count": 16,
   "metadata": {},
   "outputs": [
    {
     "name": "stderr",
     "output_type": "stream",
     "text": [
      "ntree_limit is deprecated, use `iteration_range` or model slicing instead.\n"
     ]
    },
    {
     "data": {
      "image/png": "[encoded data removed]",
      "text/plain": [
       "<Figure size 576x684 with 2 Axes>"
      ]
     },
     "metadata": {
      "needs_background": "light"
     },
     "output_type": "display_data"
    },
    {
     "data": {
      "image/png": "[encoded data removed]",
      "text/plain": [
       "<Figure size 576x684 with 2 Axes>"
      ]
     },
     "metadata": {
      "needs_background": "light"
     },
     "output_type": "display_data"
    }
   ],
   "source": [
    "explainer = shap.TreeExplainer(breast_cancer['meta_shap'])\n",
    "shap_values = explainer.shap_values(breast_cancer_X_test_shap)\n",
    "shap.summary_plot(shap_values, breast_cancer_X_test_shap)\n",
    "\n",
    "explainer = shap.TreeExplainer(breast_cancer['meta'])\n",
    "shap_values = explainer.shap_values(breast_cancer_X_test)\n",
    "shap.summary_plot(shap_values, breast_cancer_X_test)"
   ]
  },
  {
   "cell_type": "code",
   "execution_count": null,
   "metadata": {},
   "outputs": [],
   "source": []
  },
  {
   "cell_type": "code",
   "execution_count": null,
   "metadata": {},
   "outputs": [],
   "source": []
  },
  {
   "cell_type": "code",
   "execution_count": null,
   "metadata": {},
   "outputs": [],
   "source": []
  }
 ],
 "metadata": {
  "kernelspec": {
   "display_name": "Python 3",
   "language": "python",
   "name": "python3"
  },
  "language_info": {
   "codemirror_mode": {
    "name": "ipython",
    "version": 3
   },
   "file_extension": ".py",
   "mimetype": "text/x-python",
   "name": "python",
   "nbconvert_exporter": "python",
   "pygments_lexer": "ipython3",
   "version": "3.6.9"
  }
 },
 "nbformat": 4,
 "nbformat_minor": 5
}
